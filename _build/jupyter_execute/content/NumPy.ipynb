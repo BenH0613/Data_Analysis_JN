{
 "cells": [
  {
   "cell_type": "markdown",
   "id": "efbe25ae-5aea-4db3-a25f-9543ede2897a",
   "metadata": {},
   "source": [
    "# 📘 NumPy Tutorial: Numerical Foundations for Data Analysis\n",
    "\n",
    "---\n",
    "\n",
    "## ✨ What is NumPy?\n",
    "\n",
    "NumPy (Numerical Python) is a foundational package for numerical computing in Python. It provides fast, memory-efficient arrays and a rich set of operations to manipulate them.\n",
    "\n",
    "---\n",
    "\n",
    "## 📦 Importing NumPy"
   ]
  },
  {
   "cell_type": "code",
   "execution_count": 1,
   "id": "8cad24cd-2ba1-4031-9394-f7f480c19b28",
   "metadata": {},
   "outputs": [],
   "source": [
    "import numpy as np\n"
   ]
  },
  {
   "cell_type": "markdown",
   "id": "df5e0771-d41b-4105-bc5f-7a2e45e33c0f",
   "metadata": {},
   "source": [
    "---\n",
    "\n",
    "## 🔢 Creating Arrays\n",
    "\n",
    "### From Python lists:"
   ]
  },
  {
   "cell_type": "code",
   "execution_count": 2,
   "id": "ec07686a-911c-48a2-89d0-6cc85e93505b",
   "metadata": {},
   "outputs": [
    {
     "name": "stdout",
     "output_type": "stream",
     "text": [
      "[1 2 3 4]\n"
     ]
    }
   ],
   "source": [
    "arr = np.array([1, 2, 3, 4])\n",
    "print(arr)"
   ]
  },
  {
   "cell_type": "markdown",
   "id": "4ba7f735-66b9-4060-a687-a372bc547e1e",
   "metadata": {},
   "source": [
    "---\n",
    "\n",
    "### Multidimensional array:"
   ]
  },
  {
   "cell_type": "code",
   "execution_count": 3,
   "id": "e868d9d9-0d49-4668-ae3d-33dceb78f1c7",
   "metadata": {},
   "outputs": [
    {
     "name": "stdout",
     "output_type": "stream",
     "text": [
      "[[1 2]\n",
      " [3 4]]\n"
     ]
    }
   ],
   "source": [
    "mat = np.array([[1, 2], [3, 4]])\n",
    "print(mat)"
   ]
  },
  {
   "cell_type": "markdown",
   "id": "ce82a990-6542-4680-a497-f62bb2e520c8",
   "metadata": {},
   "source": [
    "---\n",
    "\n",
    "## 🧱 Array Attributes"
   ]
  },
  {
   "cell_type": "code",
   "execution_count": 4,
   "id": "5c2addb0-5061-4fd6-8df7-9353165daf03",
   "metadata": {},
   "outputs": [
    {
     "name": "stdout",
     "output_type": "stream",
     "text": [
      "(4,)\n",
      "int64\n",
      "1\n"
     ]
    }
   ],
   "source": [
    "print(arr.shape)      # Shape of array\n",
    "print(arr.dtype)      # Data type\n",
    "print(arr.ndim)       # Number of dimensions"
   ]
  },
  {
   "cell_type": "markdown",
   "id": "751f8a01-0b84-4807-9c38-d07c243e3a20",
   "metadata": {},
   "source": [
    "---\n",
    "\n",
    "## 🛠️ Creating Arrays with Defaults"
   ]
  },
  {
   "cell_type": "code",
   "execution_count": 5,
   "id": "fdd7fbaa-42d1-4cfe-b9ac-493d92e8de33",
   "metadata": {},
   "outputs": [
    {
     "data": {
      "text/plain": [
       "array([0.  , 0.25, 0.5 , 0.75, 1.  ])"
      ]
     },
     "execution_count": 5,
     "metadata": {},
     "output_type": "execute_result"
    }
   ],
   "source": [
    "np.zeros((2, 3))        # 2x3 array of zeros\n",
    "np.ones((3,))           # 1D array of ones\n",
    "np.arange(0, 10, 2)     # [0, 2, 4, 6, 8]\n",
    "np.linspace(0, 1, 5)    # 5 evenly spaced points from 0 to 1"
   ]
  },
  {
   "cell_type": "markdown",
   "id": "d7a79e64-7158-4ee9-8606-9d4753f2fbb6",
   "metadata": {},
   "source": [
    "--- \n",
    "\n",
    "## 📐 Array Indexing and Slicing"
   ]
  },
  {
   "cell_type": "code",
   "execution_count": 6,
   "id": "af97844e-550e-4b56-b78c-09a42cb84ea4",
   "metadata": {},
   "outputs": [
    {
     "name": "stdout",
     "output_type": "stream",
     "text": [
      "20\n",
      "[20 30]\n",
      "6\n"
     ]
    }
   ],
   "source": [
    "arr = np.array([10, 20, 30, 40])\n",
    "print(arr[1])           # 20\n",
    "print(arr[1:3])         # [20 30]\n",
    "mat = np.array([[1, 2, 3], [4, 5, 6]])\n",
    "print(mat[1, 2])        # 6"
   ]
  },
  {
   "cell_type": "markdown",
   "id": "ececabdb-380f-4b15-b0aa-2857d0612e41",
   "metadata": {},
   "source": [
    "---\n",
    "\n",
    "## 🔁 Vectorized Operations"
   ]
  },
  {
   "cell_type": "code",
   "execution_count": 7,
   "id": "1ce6499a-73c0-4457-809c-e67ef8a4b1ad",
   "metadata": {},
   "outputs": [
    {
     "name": "stdout",
     "output_type": "stream",
     "text": [
      "[6 7 8]\n",
      "[2 4 6]\n"
     ]
    }
   ],
   "source": [
    "arr = np.array([1, 2, 3])\n",
    "print(arr + 5)           # [6 7 8]\n",
    "print(arr * 2)           # [2 4 6]"
   ]
  },
  {
   "cell_type": "markdown",
   "id": "52046e6c-2704-4f38-854e-f03cf076dfcd",
   "metadata": {},
   "source": [
    "---\n",
    "\n",
    "## 🧮 Mathematical Functions"
   ]
  },
  {
   "cell_type": "code",
   "execution_count": 8,
   "id": "7c08cd2f-6923-4d8b-b03d-9beb3d91a546",
   "metadata": {},
   "outputs": [
    {
     "data": {
      "text/plain": [
       "np.int64(1)"
      ]
     },
     "execution_count": 8,
     "metadata": {},
     "output_type": "execute_result"
    }
   ],
   "source": [
    "np.mean(arr)\n",
    "np.std(arr)\n",
    "np.sum(arr)\n",
    "np.max(arr)\n",
    "np.min(arr)"
   ]
  },
  {
   "cell_type": "markdown",
   "id": "fef3cadd-500a-4046-8f17-01bb9cccb28b",
   "metadata": {},
   "source": [
    "---\n",
    "\n",
    "## 🔄 Reshaping and Transposing"
   ]
  },
  {
   "cell_type": "code",
   "execution_count": 9,
   "id": "97b55a23-8222-4b39-b34e-14ba0e835fc6",
   "metadata": {},
   "outputs": [
    {
     "name": "stdout",
     "output_type": "stream",
     "text": [
      "[[0 1 2]\n",
      " [3 4 5]]\n",
      "[[0 3]\n",
      " [1 4]\n",
      " [2 5]]\n"
     ]
    }
   ],
   "source": [
    "arr = np.arange(6).reshape(2, 3)  # 2 rows, 3 columns\n",
    "print(arr)\n",
    "\n",
    "print(arr.T)                     # Transpose"
   ]
  }
 ],
 "metadata": {
  "kernelspec": {
   "display_name": "Python 3 (ipykernel)",
   "language": "python",
   "name": "python3"
  },
  "language_info": {
   "codemirror_mode": {
    "name": "ipython",
    "version": 3
   },
   "file_extension": ".py",
   "mimetype": "text/x-python",
   "name": "python",
   "nbconvert_exporter": "python",
   "pygments_lexer": "ipython3",
   "version": "3.13.5"
  }
 },
 "nbformat": 4,
 "nbformat_minor": 5
}