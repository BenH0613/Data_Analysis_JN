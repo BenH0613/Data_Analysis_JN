{
 "cells": [
  {
   "cell_type": "markdown",
   "id": "d7c8c479",
   "metadata": {},
   "source": [
    "# 📘 SciPy for Scientific Computing"
   ]
  },
  {
   "cell_type": "markdown",
   "id": "71266be8",
   "metadata": {},
   "source": [
    "SciPy is a powerful Python library built on top of NumPy. It provides tools for scientific and technical computing, including optimization, integration, interpolation, linear algebra, and statistics."
   ]
  },
  {
   "cell_type": "code",
   "execution_count": 1,
   "id": "694bad0c",
   "metadata": {},
   "outputs": [],
   "source": [
    "import numpy as np\n",
    "from scipy import stats, integrate, optimize"
   ]
  },
  {
   "cell_type": "markdown",
   "id": "78e45e4c",
   "metadata": {},
   "source": [
    "## 🎯 Example 1: Solving Equations"
   ]
  },
  {
   "cell_type": "code",
   "execution_count": 2,
   "id": "80b76710",
   "metadata": {},
   "outputs": [
    {
     "name": "stdout",
     "output_type": "stream",
     "text": [
      "Root: [2.]\n"
     ]
    }
   ],
   "source": [
    "from scipy.optimize import fsolve\n",
    "\n",
    "def equation(x):\n",
    "    return x**2 - 4\n",
    "\n",
    "root = fsolve(equation, x0=2)\n",
    "print(\"Root:\", root)"
   ]
  },
  {
   "cell_type": "markdown",
   "id": "9e4696a5",
   "metadata": {},
   "source": [
    "## 📈 Example 2: Integration"
   ]
  },
  {
   "cell_type": "code",
   "execution_count": 3,
   "id": "e9f9a485",
   "metadata": {},
   "outputs": [
    {
     "name": "stdout",
     "output_type": "stream",
     "text": [
      "Integral result: 0.33333333333333337\n"
     ]
    }
   ],
   "source": [
    "from scipy.integrate import quad\n",
    "\n",
    "result, error = quad(lambda x: x**2, 0, 1)\n",
    "print(\"Integral result:\", result)"
   ]
  },
  {
   "cell_type": "markdown",
   "id": "e62f357e",
   "metadata": {},
   "source": [
    "## 🔁 Example 3: Interpolation"
   ]
  },
  {
   "cell_type": "code",
   "execution_count": 4,
   "id": "688f854f",
   "metadata": {},
   "outputs": [
    {
     "data": {
      "image/png": "[encoded data removed]",
      "text/plain": [
       "<Figure size 640x480 with 1 Axes>"
      ]
     },
     "metadata": {},
     "output_type": "display_data"
    }
   ],
   "source": [
    "from scipy.interpolate import interp1d\n",
    "import matplotlib.pyplot as plt\n",
    "\n",
    "x = np.array([0, 1, 2, 3])\n",
    "y = np.array([0, 1, 4, 9])\n",
    "\n",
    "f = interp1d(x, y, kind='cubic')\n",
    "x_new = np.linspace(0, 3, 100)\n",
    "y_new = f(x_new)\n",
    "\n",
    "plt.plot(x, y, 'o', label='data')\n",
    "plt.plot(x_new, y_new, '-', label='cubic interpolation')\n",
    "plt.legend()\n",
    "plt.show()"
   ]
  },
  {
   "cell_type": "markdown",
   "id": "f0a29ae7",
   "metadata": {},
   "source": [
    "## 📊 Example 4: Statistical Tests"
   ]
  },
  {
   "cell_type": "code",
   "execution_count": 5,
   "id": "59c6993f",
   "metadata": {},
   "outputs": [
    {
     "name": "stdout",
     "output_type": "stream",
     "text": [
      "T-statistic: 0.9493099731786437\n",
      "P-value: 0.3426925723722509\n"
     ]
    }
   ],
   "source": [
    "data = np.random.normal(loc=0, scale=1, size=1000)\n",
    "\n",
    "# Perform a t-test\n",
    "t_stat, p_value = stats.ttest_1samp(data, popmean=0)\n",
    "print(\"T-statistic:\", t_stat)\n",
    "print(\"P-value:\", p_value)"
   ]
  },
  {
   "cell_type": "markdown",
   "id": "d71d7b3b",
   "metadata": {},
   "source": [
    "## 🧪 Practice Challenge"
   ]
  },
  {
   "cell_type": "markdown",
   "id": "03f88d7f",
   "metadata": {},
   "source": [
    "Use `scipy.optimize` to find the minimum of the function $f(x) = x^2 + 2x + 1$."
   ]
  },
  {
   "cell_type": "code",
   "execution_count": 6,
   "id": "6dab711b",
   "metadata": {},
   "outputs": [
    {
     "name": "stdout",
     "output_type": "stream",
     "text": [
      "Minimum at: [-1.00000001]\n"
     ]
    }
   ],
   "source": [
    "from scipy.optimize import minimize\n",
    "\n",
    "def f(x):\n",
    "    return x**2 + 2*x + 1\n",
    "\n",
    "result = minimize(f, x0=0)\n",
    "print(\"Minimum at:\", result.x)"
   ]
  },
  {
   "cell_type": "markdown",
   "id": "fed9d5f7",
   "metadata": {},
   "source": [
    "## ✅ Summary"
   ]
  },
  {
   "cell_type": "markdown",
   "id": "4ae8bf07",
   "metadata": {},
   "source": [
    "- `scipy.optimize` → root finding, minimization\n",
    "- `scipy.integrate` → definite integrals\n",
    "- `scipy.interpolate` → interpolation\n",
    "- `scipy.stats` → distributions and hypothesis testing"
   ]
  },
  {
   "cell_type": "markdown",
   "id": "e0ce1471",
   "metadata": {},
   "source": [
    "> SciPy is ideal for scientific research, modelling, and data analysis when paired with NumPy and Matplotlib."
   ]
  }
 ],
 "metadata": {
  "kernelspec": {
   "display_name": "Python 3 (ipykernel)",
   "language": "python",
   "name": "python3"
  },
  "language_info": {
   "codemirror_mode": {
    "name": "ipython",
    "version": 3
   },
   "file_extension": ".py",
   "mimetype": "text/x-python",
   "name": "python",
   "nbconvert_exporter": "python",
   "pygments_lexer": "ipython3",
   "version": "3.13.5"
  }
 },
 "nbformat": 4,
 "nbformat_minor": 5
}