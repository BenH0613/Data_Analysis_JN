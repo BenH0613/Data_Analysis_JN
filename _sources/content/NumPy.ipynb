{
 "cells": [
  {
   "cell_type": "markdown",
   "id": "efbe25ae-5aea-4db3-a25f-9543ede2897a",
   "metadata": {},
   "source": [
    "# Introduction to NumPy\n",
    "\n",
    "Welcome to your first step in learning data analysis with Python!\n",
    "\n",
    "### What is NumPy?\n",
    "\n",
    "NumPy (Numerical Python) is a powerful library that lets you:\n",
    "\n",
    "- Work efficiently with numerical data\n",
    "- Store data in arrays (like tables of numbers)\n",
    "- Perform fast calculations and statistics\n",
    "- Analyze experimental data in biology and chemistry\n",
    "\n",
    "> NumPy is fast and efficient because it stores data in compact arrays and performs operations on entire datasets at once — no loops needed.  \n",
    "\n",
    "\n",
    "---\n",
    "\n",
    "\n",
    "### In this chapter, you’ll learn how to:\n",
    "\n",
    "1. Create and use NumPy arrays  \n",
    "2. Perform basic math and statistics  \n",
    "3. Analyze real-world data like protein concentrations and enzyme activity\n",
    "\n",
    "<br>\n",
    "\n",
    "\n",
    "---\n",
    "\n",
    "## Quick Introduction to Useful NumPy Syntax\n",
    "\n",
    "Before we jump into real examples, here are some of the most common things you'll do with NumPy:\n",
    "\n",
    "- **Creating arrays**  \n",
    "  `np.array([1, 2, 3])` → turns a Python list into a NumPy array  \n",
    "\n",
    "- **Generating ranges of numbers**  \n",
    "  `np.arange(0, 10, 2)` → `[0 2 4 6 8]`  \n",
    "\n",
    "- **Basic math operations (element-wise)**  \n",
    "  `array * 2`, `array + 5`, `array / 10` → applies to every element automatically  \n",
    "\n",
    "- **Useful stats functions**  \n",
    "  `np.mean(array)`, `np.std(array)`, `np.min(array)`, `np.max(array)`  \n",
    "\n",
    "- **Differences between values**  \n",
    "  `np.diff(array)` → calculates the difference between each pair of elements  \n",
    "\n",
    "- **Unit conversion**  \n",
    "  You can convert values easily:  \n",
    "  `nmol = umol_array * 1000`  \n",
    "\n",
    "These are the building blocks we'll use in the following biochemistry examples.\n"
   ]
  },
  {
   "cell_type": "code",
   "execution_count": 1,
   "id": "8cad24cd-2ba1-4031-9394-f7f480c19b28",
   "metadata": {},
   "outputs": [],
   "source": [
    "# First, import NumPy\n",
    "import numpy as np"
   ]
  },
  {
   "cell_type": "markdown",
   "id": "df5e0771-d41b-4105-bc5f-7a2e45e33c0f",
   "metadata": {},
   "source": [
    "---\n",
    "\n",
    "## Creating Arrays\n",
    "\n",
    "### From Python lists:"
   ]
  },
  {
   "cell_type": "code",
   "execution_count": 2,
   "id": "ec07686a-911c-48a2-89d0-6cc85e93505b",
   "metadata": {},
   "outputs": [
    {
     "name": "stdout",
     "output_type": "stream",
     "text": [
      "[1 2 3 4]\n"
     ]
    }
   ],
   "source": [
    "arr = np.array([1, 2, 3, 4])\n",
    "print(arr)"
   ]
  },
  {
   "cell_type": "markdown",
   "id": "4ba7f735-66b9-4060-a687-a372bc547e1e",
   "metadata": {},
   "source": [
    "---\n",
    "\n",
    "### Multidimensional array:"
   ]
  },
  {
   "cell_type": "code",
   "execution_count": 3,
   "id": "e868d9d9-0d49-4668-ae3d-33dceb78f1c7",
   "metadata": {},
   "outputs": [
    {
     "name": "stdout",
     "output_type": "stream",
     "text": [
      "[[1 2]\n",
      " [3 4]]\n"
     ]
    }
   ],
   "source": [
    "mat = np.array([[1, 2], [3, 4]])\n",
    "print(mat)"
   ]
  },
  {
   "cell_type": "markdown",
   "id": "ce82a990-6542-4680-a497-f62bb2e520c8",
   "metadata": {},
   "source": [
    "---\n",
    "\n",
    "## Array Attributes"
   ]
  },
  {
   "cell_type": "code",
   "execution_count": 4,
   "id": "5c2addb0-5061-4fd6-8df7-9353165daf03",
   "metadata": {},
   "outputs": [
    {
     "name": "stdout",
     "output_type": "stream",
     "text": [
      "(4,)\n",
      "int64\n",
      "1\n"
     ]
    }
   ],
   "source": [
    "print(arr.shape)      # Shape of array\n",
    "print(arr.dtype)      # Data type\n",
    "print(arr.ndim)       # Number of dimensions"
   ]
  },
  {
   "cell_type": "markdown",
   "id": "751f8a01-0b84-4807-9c38-d07c243e3a20",
   "metadata": {},
   "source": [
    "---\n",
    "\n",
    "## Creating Arrays with Defaults"
   ]
  },
  {
   "cell_type": "code",
   "execution_count": 5,
   "id": "fdd7fbaa-42d1-4cfe-b9ac-493d92e8de33",
   "metadata": {},
   "outputs": [
    {
     "data": {
      "text/plain": [
       "array([0.  , 0.25, 0.5 , 0.75, 1.  ])"
      ]
     },
     "execution_count": 5,
     "metadata": {},
     "output_type": "execute_result"
    }
   ],
   "source": [
    "np.zeros((2, 3))        # 2x3 array of zeros\n",
    "np.ones((3,))           # 1D array of ones\n",
    "np.arange(0, 10, 2)     # [0, 2, 4, 6, 8]\n",
    "np.linspace(0, 1, 5)    # 5 evenly spaced points from 0 to 1"
   ]
  },
  {
   "cell_type": "markdown",
   "id": "d7a79e64-7158-4ee9-8606-9d4753f2fbb6",
   "metadata": {},
   "source": [
    "--- \n",
    "\n",
    "## Array Indexing and Slicing"
   ]
  },
  {
   "cell_type": "code",
   "execution_count": 6,
   "id": "af97844e-550e-4b56-b78c-09a42cb84ea4",
   "metadata": {},
   "outputs": [
    {
     "name": "stdout",
     "output_type": "stream",
     "text": [
      "20\n",
      "[20 30]\n",
      "6\n"
     ]
    }
   ],
   "source": [
    "arr = np.array([10, 20, 30, 40])\n",
    "print(arr[1])           # 20\n",
    "print(arr[1:3])         # [20 30]\n",
    "mat = np.array([[1, 2, 3], [4, 5, 6]])\n",
    "print(mat[1, 2])        # 6"
   ]
  },
  {
   "cell_type": "markdown",
   "id": "ececabdb-380f-4b15-b0aa-2857d0612e41",
   "metadata": {},
   "source": [
    "---\n",
    "\n",
    "## Vectorized Operations"
   ]
  },
  {
   "cell_type": "code",
   "execution_count": 7,
   "id": "1ce6499a-73c0-4457-809c-e67ef8a4b1ad",
   "metadata": {},
   "outputs": [
    {
     "name": "stdout",
     "output_type": "stream",
     "text": [
      "[6 7 8]\n",
      "[2 4 6]\n"
     ]
    }
   ],
   "source": [
    "arr = np.array([1, 2, 3])\n",
    "print(arr + 5)           # [6 7 8]\n",
    "print(arr * 2)           # [2 4 6]"
   ]
  },
  {
   "cell_type": "markdown",
   "id": "52046e6c-2704-4f38-854e-f03cf076dfcd",
   "metadata": {},
   "source": [
    "---\n",
    "\n",
    "## Mathematical Functions"
   ]
  },
  {
   "cell_type": "code",
   "execution_count": 8,
   "id": "7c08cd2f-6923-4d8b-b03d-9beb3d91a546",
   "metadata": {},
   "outputs": [
    {
     "data": {
      "text/plain": [
       "np.int64(1)"
      ]
     },
     "execution_count": 8,
     "metadata": {},
     "output_type": "execute_result"
    }
   ],
   "source": [
    "np.mean(arr)\n",
    "np.std(arr)\n",
    "np.sum(arr)\n",
    "np.max(arr)\n",
    "np.min(arr)"
   ]
  },
  {
   "cell_type": "markdown",
   "id": "fef3cadd-500a-4046-8f17-01bb9cccb28b",
   "metadata": {},
   "source": [
    "---\n",
    "\n",
    "## Reshaping and Transposing"
   ]
  },
  {
   "cell_type": "code",
   "execution_count": 9,
   "id": "97b55a23-8222-4b39-b34e-14ba0e835fc6",
   "metadata": {},
   "outputs": [
    {
     "name": "stdout",
     "output_type": "stream",
     "text": [
      "[[0 1 2]\n",
      " [3 4 5]]\n",
      "[[0 3]\n",
      " [1 4]\n",
      " [2 5]]\n"
     ]
    }
   ],
   "source": [
    "arr = np.arange(6).reshape(2, 3)  # 2 rows, 3 columns\n",
    "print(arr)\n",
    "\n",
    "print(arr.T)                     # Transpose"
   ]
  },
  {
   "cell_type": "markdown",
   "id": "a121f02f-b289-4119-a32a-76b4510acb6b",
   "metadata": {},
   "source": [
    "---\n",
    "\n",
    "## Example 1: Protein Concentration Measurements\n",
    "\n",
    "Let's say you've measured the concentration of a protein (in mg/mL) in several different samples.\n",
    "\n",
    "We'll use a NumPy array to store and analyze these values."
   ]
  },
  {
   "cell_type": "code",
   "execution_count": 10,
   "id": "9642c290-b543-4e47-ae6e-d49d8da19b72",
   "metadata": {},
   "outputs": [
    {
     "name": "stdout",
     "output_type": "stream",
     "text": [
      "Protein concentrations (mg/mL): [1.2 2.5 2.3 1.8 2.1 1.9 2.6]\n"
     ]
    }
   ],
   "source": [
    "# Create a NumPy array of protein concentrations (mg/mL)\n",
    "protein_conc = np.array([1.2, 2.5, 2.3, 1.8, 2.1, 1.9, 2.6])\n",
    "\n",
    "# Print the raw data\n",
    "print(\"Protein concentrations (mg/mL):\", protein_conc)"
   ]
  },
  {
   "cell_type": "code",
   "execution_count": 11,
   "id": "7e823f54-be72-4ade-aa6d-757cfddab49c",
   "metadata": {},
   "outputs": [
    {
     "name": "stdout",
     "output_type": "stream",
     "text": [
      "Mean concentration: 2.0571428571428574\n",
      "Standard deviation: 0.4435478484645721\n",
      "Max concentration: 2.6\n",
      "Min concentration: 1.2\n"
     ]
    }
   ],
   "source": [
    "# Calculate the average (mean) concentration\n",
    "mean_conc = np.mean(protein_conc)\n",
    "print(\"Mean concentration:\", mean_conc)\n",
    "\n",
    "# Calculate the standard deviation (spread of values)\n",
    "std_conc = np.std(protein_conc)\n",
    "print(\"Standard deviation:\", std_conc)\n",
    "\n",
    "# Find the maximum and minimum values\n",
    "max_conc = np.max(protein_conc)\n",
    "min_conc = np.min(protein_conc)\n",
    "print(\"Max concentration:\", max_conc)\n",
    "print(\"Min concentration:\", min_conc)"
   ]
  },
  {
   "cell_type": "markdown",
   "id": "51dd3738-cdae-4281-9a21-4d3ff646ec3a",
   "metadata": {},
   "source": [
    "## Example 2: Enzyme Activity Over Time\n",
    "\n",
    "Suppose you're studying an enzyme reaction and you measure activity (µmol/min) every 5 minutes.\n",
    "\n",
    "Let’s store the time and activity data and calculate the rate of change (how fast the reaction speeds up)."
   ]
  },
  {
   "cell_type": "code",
   "execution_count": 12,
   "id": "9807b8b3-880f-4839-aeb8-729b7f62257a",
   "metadata": {},
   "outputs": [
    {
     "name": "stdout",
     "output_type": "stream",
     "text": [
      "Time (minutes): [ 0  5 10 15 20 25 30]\n",
      "Enzyme activity (µmol/min): [0.  2.3 4.1 5.8 7.2 7.9 8.1]\n"
     ]
    }
   ],
   "source": [
    "# Time in minutes and enzyme activity in µmol/min\n",
    "time_minutes = np.array([0, 5, 10, 15, 20, 25, 30])\n",
    "enzyme_activity = np.array([0, 2.3, 4.1, 5.8, 7.2, 7.9, 8.1])\n",
    "\n",
    "print(\"Time (minutes):\", time_minutes)\n",
    "print(\"Enzyme activity (µmol/min):\", enzyme_activity)"
   ]
  },
  {
   "cell_type": "code",
   "execution_count": 13,
   "id": "1b066073-021b-4363-90c5-c63a562606ee",
   "metadata": {},
   "outputs": [
    {
     "name": "stdout",
     "output_type": "stream",
     "text": [
      "Rate of change (µmol/min per minute): [0.46 0.36 0.34 0.28 0.14 0.04]\n"
     ]
    }
   ],
   "source": [
    "# Calculate the rate of change between time points (Δactivity / Δtime)\n",
    "rate_of_change = np.diff(enzyme_activity) / np.diff(time_minutes)\n",
    "print(\"Rate of change (µmol/min per minute):\", rate_of_change)"
   ]
  },
  {
   "cell_type": "code",
   "execution_count": 14,
   "id": "f669dba0-dbc1-4221-b3f0-980495f12f60",
   "metadata": {},
   "outputs": [
    {
     "name": "stdout",
     "output_type": "stream",
     "text": [
      "Enzyme activity in nmol/min: [   0. 2300. 4100. 5800. 7200. 7900. 8100.]\n"
     ]
    }
   ],
   "source": [
    "# Convert activity to nmol/min (1 µmol = 1000 nmol)\n",
    "enzyme_activity_nmol = enzyme_activity * 1000\n",
    "print(\"Enzyme activity in nmol/min:\", enzyme_activity_nmol)"
   ]
  },
  {
   "cell_type": "markdown",
   "id": "c1209fd7-50fc-436c-8e71-caf91fb83f66",
   "metadata": {},
   "source": [
    "## Example 3: DNA Melting Temperature vs. Salt Concentration\n",
    "\n",
    "DNA melting temperature (Tm) depends on salt concentration. We'll simulate this relationship.\n",
    "\n",
    "Here’s how Tm changes at different NaCl concentrations."
   ]
  },
  {
   "cell_type": "code",
   "execution_count": 15,
   "id": "706ba75c-e9e8-4f46-ab45-66c5946c26ad",
   "metadata": {},
   "outputs": [
    {
     "name": "stdout",
     "output_type": "stream",
     "text": [
      "Salt concentrations (mM): [ 50 100 150 200 250]\n",
      "Melting temperatures (°C): [65.2 67.5 68.9 70.1 71. ]\n"
     ]
    }
   ],
   "source": [
    "# Salt concentration in mM and DNA Tm in °C\n",
    "salt_conc_mM = np.array([50, 100, 150, 200, 250])\n",
    "tm_values = np.array([65.2, 67.5, 68.9, 70.1, 71.0])\n",
    "\n",
    "print(\"Salt concentrations (mM):\", salt_conc_mM)\n",
    "print(\"Melting temperatures (°C):\", tm_values)"
   ]
  },
  {
   "cell_type": "code",
   "execution_count": 16,
   "id": "35072c9f-ec25-4aa9-9efd-1355f20e51f7",
   "metadata": {},
   "outputs": [
    {
     "name": "stdout",
     "output_type": "stream",
     "text": [
      "Increase in Tm between salt steps (°C): [2.3 1.4 1.2 0.9]\n",
      "Average increase per 50 mM NaCl: 1.4499999999999993 °C\n"
     ]
    }
   ],
   "source": [
    "# Calculate the Tm increase between each salt step\n",
    "delta_tm = np.diff(tm_values)\n",
    "print(\"Increase in Tm between salt steps (°C):\", delta_tm)\n",
    "\n",
    "# Average increase per 50 mM\n",
    "avg_increase_per_50mM = np.mean(delta_tm)\n",
    "print(\"Average increase per 50 mM NaCl:\", avg_increase_per_50mM, \"°C\")"
   ]
  },
  {
   "cell_type": "markdown",
   "id": "a9b32edb-2546-49f8-9c05-4f3d702f28c0",
   "metadata": {},
   "source": [
    "## Summary\n",
    "\n",
    "In this chapter, you learned how to:\n",
    "\n",
    "- Use NumPy to store experimental data in arrays\n",
    "- Calculate basic statistics (mean, std, max, min)\n",
    "- Compute differences and apply unit conversions\n",
    "- Analyze bioscience data like enzyme activity and DNA melting temperatures\n"
   ]
  }
 ],
 "metadata": {
  "kernelspec": {
   "display_name": "Python 3 (ipykernel)",
   "language": "python",
   "name": "python3"
  },
  "language_info": {
   "codemirror_mode": {
    "name": "ipython",
    "version": 3
   },
   "file_extension": ".py",
   "mimetype": "text/x-python",
   "name": "python",
   "nbconvert_exporter": "python",
   "pygments_lexer": "ipython3",
   "version": "3.13.5"
  }
 },
 "nbformat": 4,
 "nbformat_minor": 5
}
