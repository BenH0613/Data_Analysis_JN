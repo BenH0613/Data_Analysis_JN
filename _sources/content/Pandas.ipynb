{
 "cells": [
  {
   "cell_type": "markdown",
   "id": "08713378",
   "metadata": {},
   "source": [
    "# Introduction to pandas\n",
    "\n",
    "Welcome to pandas! This powerful Python library is used for:\n",
    "\n",
    "1. Reading and cleaning experimental data  \n",
    "2. Organizing results like an Excel sheet  \n",
    "3. Filtering, sorting, and grouping data  \n",
    "4. Making analysis easier and reproducible\n",
    "\n",
    "> Think of pandas as Excel for Python — but faster and more flexible.\n",
    "\n",
    "\n",
    "\n",
    "---\n",
    "\n",
    "\n",
    "\n",
    "In this chapter, you’ll learn how to:\n",
    "\n",
    "- Work with tables using **DataFrames**\n",
    "- Load CSV data from an experiment\n",
    "- Calculate group statistics\n",
    "- Apply it to a real example: an ELISA protein concentration assay\n",
    "\n",
    "<br>\n",
    "\n",
    "---\n",
    "\n",
    "\n",
    "## Quick Introduction to Useful pandas Syntax\n",
    "\n",
    "Here are the most common pandas tools you'll use when working with lab data:\n",
    "\n",
    "- **Create a DataFrame**  \n",
    "  `pd.DataFrame(data)` → turns a dictionary or CSV file into a table  \n",
    "\n",
    "- **Look at the data**  \n",
    "  `df.head()` → first 5 rows  \n",
    "  `df.shape` → (rows, columns)  \n",
    "  `df.describe()` → quick summary statistics  \n",
    "\n",
    "- **Select columns or rows**  \n",
    "  `df['Protein_conc']` → select one column  \n",
    "  `df.loc[0]` → select row by label or index  \n",
    "  `df.iloc[0]` → select row by position  \n",
    "\n",
    "- **Filter rows based on a condition**  \n",
    "  `df[df['Protein_conc'] > 2.0]` → samples with high concentration  \n",
    "\n",
    "- **Group by and calculate statistics**  \n",
    "  `df.groupby('Group')['Protein_conc'].mean()` → mean per group  \n",
    "  `df.groupby('Group').agg(['mean', 'std'])` → multiple stats  \n",
    "\n",
    "- **Sort and export**  \n",
    "  `df.sort_values(by='Protein_conc')` → sort by column  \n",
    "  `df.to_csv('results.csv')` → save as CSV  \n",
    "\n",
    "These are the most useful \"everyday tools\" in pandas — once you get the hang of them, you'll be able to handle almost any lab dataset."
   ]
  },
  {
   "cell_type": "markdown",
   "id": "4c452dfc",
   "metadata": {},
   "source": [
    "## Importing Pandas"
   ]
  },
  {
   "cell_type": "code",
   "execution_count": 1,
   "id": "88e4adb0",
   "metadata": {},
   "outputs": [
    {
     "name": "stdout",
     "output_type": "stream",
     "text": [
      "2.2.3\n"
     ]
    }
   ],
   "source": [
    "# First, import the pandas library\n",
    "import pandas as pd\n",
    "print(pd.__version__)"
   ]
  },
  {
   "cell_type": "markdown",
   "id": "d2cbb95e",
   "metadata": {},
   "source": [
    "## Creating DataFrames"
   ]
  },
  {
   "cell_type": "code",
   "execution_count": 2,
   "id": "4a4aabd8",
   "metadata": {},
   "outputs": [
    {
     "data": {
      "text/html": [
       "<div>\n",
       "<style scoped>\n",
       "    .dataframe tbody tr th:only-of-type {\n",
       "        vertical-align: middle;\n",
       "    }\n",
       "\n",
       "    .dataframe tbody tr th {\n",
       "        vertical-align: top;\n",
       "    }\n",
       "\n",
       "    .dataframe thead th {\n",
       "        text-align: right;\n",
       "    }\n",
       "</style>\n",
       "<table border=\"1\" class=\"dataframe\">\n",
       "  <thead>\n",
       "    <tr style=\"text-align: right;\">\n",
       "      <th></th>\n",
       "      <th>Name</th>\n",
       "      <th>Age</th>\n",
       "    </tr>\n",
       "  </thead>\n",
       "  <tbody>\n",
       "    <tr>\n",
       "      <th>0</th>\n",
       "      <td>Alice</td>\n",
       "      <td>25</td>\n",
       "    </tr>\n",
       "    <tr>\n",
       "      <th>1</th>\n",
       "      <td>Bob</td>\n",
       "      <td>30</td>\n",
       "    </tr>\n",
       "    <tr>\n",
       "      <th>2</th>\n",
       "      <td>Charlie</td>\n",
       "      <td>35</td>\n",
       "    </tr>\n",
       "  </tbody>\n",
       "</table>\n",
       "</div>"
      ],
      "text/plain": [
       "      Name  Age\n",
       "0    Alice   25\n",
       "1      Bob   30\n",
       "2  Charlie   35"
      ]
     },
     "execution_count": 2,
     "metadata": {},
     "output_type": "execute_result"
    }
   ],
   "source": [
    "# From dictionary\n",
    "data = {'Name': ['Alice', 'Bob', 'Charlie'], 'Age': [25, 30, 35]}\n",
    "df = pd.DataFrame(data)\n",
    "df"
   ]
  },
  {
   "cell_type": "markdown",
   "id": "3f2c3a72",
   "metadata": {},
   "source": [
    "## Inspecting Data"
   ]
  },
  {
   "cell_type": "code",
   "execution_count": 3,
   "id": "93ec2b32",
   "metadata": {},
   "outputs": [
    {
     "name": "stdout",
     "output_type": "stream",
     "text": [
      "<class 'pandas.core.frame.DataFrame'>\n",
      "RangeIndex: 3 entries, 0 to 2\n",
      "Data columns (total 2 columns):\n",
      " #   Column  Non-Null Count  Dtype \n",
      "---  ------  --------------  ----- \n",
      " 0   Name    3 non-null      object\n",
      " 1   Age     3 non-null      int64 \n",
      "dtypes: int64(1), object(1)\n",
      "memory usage: 180.0+ bytes\n"
     ]
    },
    {
     "data": {
      "text/html": [
       "<div>\n",
       "<style scoped>\n",
       "    .dataframe tbody tr th:only-of-type {\n",
       "        vertical-align: middle;\n",
       "    }\n",
       "\n",
       "    .dataframe tbody tr th {\n",
       "        vertical-align: top;\n",
       "    }\n",
       "\n",
       "    .dataframe thead th {\n",
       "        text-align: right;\n",
       "    }\n",
       "</style>\n",
       "<table border=\"1\" class=\"dataframe\">\n",
       "  <thead>\n",
       "    <tr style=\"text-align: right;\">\n",
       "      <th></th>\n",
       "      <th>Age</th>\n",
       "    </tr>\n",
       "  </thead>\n",
       "  <tbody>\n",
       "    <tr>\n",
       "      <th>count</th>\n",
       "      <td>3.0</td>\n",
       "    </tr>\n",
       "    <tr>\n",
       "      <th>mean</th>\n",
       "      <td>30.0</td>\n",
       "    </tr>\n",
       "    <tr>\n",
       "      <th>std</th>\n",
       "      <td>5.0</td>\n",
       "    </tr>\n",
       "    <tr>\n",
       "      <th>min</th>\n",
       "      <td>25.0</td>\n",
       "    </tr>\n",
       "    <tr>\n",
       "      <th>25%</th>\n",
       "      <td>27.5</td>\n",
       "    </tr>\n",
       "    <tr>\n",
       "      <th>50%</th>\n",
       "      <td>30.0</td>\n",
       "    </tr>\n",
       "    <tr>\n",
       "      <th>75%</th>\n",
       "      <td>32.5</td>\n",
       "    </tr>\n",
       "    <tr>\n",
       "      <th>max</th>\n",
       "      <td>35.0</td>\n",
       "    </tr>\n",
       "  </tbody>\n",
       "</table>\n",
       "</div>"
      ],
      "text/plain": [
       "        Age\n",
       "count   3.0\n",
       "mean   30.0\n",
       "std     5.0\n",
       "min    25.0\n",
       "25%    27.5\n",
       "50%    30.0\n",
       "75%    32.5\n",
       "max    35.0"
      ]
     },
     "execution_count": 3,
     "metadata": {},
     "output_type": "execute_result"
    }
   ],
   "source": [
    "df.head()  # First few rows\n",
    "df.info()  # Summary info\n",
    "df.describe()  # Statistics"
   ]
  },
  {
   "cell_type": "markdown",
   "id": "7299c9a3",
   "metadata": {},
   "source": [
    "## Indexing and Selecting Data"
   ]
  },
  {
   "cell_type": "code",
   "execution_count": 4,
   "id": "098f18f8",
   "metadata": {},
   "outputs": [
    {
     "data": {
      "text/plain": [
       "Name    Alice\n",
       "Age        25\n",
       "Name: 0, dtype: object"
      ]
     },
     "execution_count": 4,
     "metadata": {},
     "output_type": "execute_result"
    }
   ],
   "source": [
    "df['Name']  # Single column\n",
    "df[['Name', 'Age']]  # Multiple columns\n",
    "df.loc[0]  # Row by label\n",
    "df.iloc[0]  # Row by position"
   ]
  },
  {
   "cell_type": "markdown",
   "id": "869c7b61",
   "metadata": {},
   "source": [
    "## Filtering and Boolean Indexing"
   ]
  },
  {
   "cell_type": "code",
   "execution_count": 5,
   "id": "085c1910",
   "metadata": {},
   "outputs": [
    {
     "data": {
      "text/html": [
       "<div>\n",
       "<style scoped>\n",
       "    .dataframe tbody tr th:only-of-type {\n",
       "        vertical-align: middle;\n",
       "    }\n",
       "\n",
       "    .dataframe tbody tr th {\n",
       "        vertical-align: top;\n",
       "    }\n",
       "\n",
       "    .dataframe thead th {\n",
       "        text-align: right;\n",
       "    }\n",
       "</style>\n",
       "<table border=\"1\" class=\"dataframe\">\n",
       "  <thead>\n",
       "    <tr style=\"text-align: right;\">\n",
       "      <th></th>\n",
       "      <th>Name</th>\n",
       "      <th>Age</th>\n",
       "    </tr>\n",
       "  </thead>\n",
       "  <tbody>\n",
       "    <tr>\n",
       "      <th>1</th>\n",
       "      <td>Bob</td>\n",
       "      <td>30</td>\n",
       "    </tr>\n",
       "    <tr>\n",
       "      <th>2</th>\n",
       "      <td>Charlie</td>\n",
       "      <td>35</td>\n",
       "    </tr>\n",
       "  </tbody>\n",
       "</table>\n",
       "</div>"
      ],
      "text/plain": [
       "      Name  Age\n",
       "1      Bob   30\n",
       "2  Charlie   35"
      ]
     },
     "execution_count": 5,
     "metadata": {},
     "output_type": "execute_result"
    }
   ],
   "source": [
    "df[df['Age'] > 28]  # People older than 28"
   ]
  },
  {
   "cell_type": "markdown",
   "id": "944d18e3",
   "metadata": {},
   "source": [
    "## Adding and Removing Columns"
   ]
  },
  {
   "cell_type": "code",
   "execution_count": 6,
   "id": "9a81c717",
   "metadata": {},
   "outputs": [
    {
     "data": {
      "text/html": [
       "<div>\n",
       "<style scoped>\n",
       "    .dataframe tbody tr th:only-of-type {\n",
       "        vertical-align: middle;\n",
       "    }\n",
       "\n",
       "    .dataframe tbody tr th {\n",
       "        vertical-align: top;\n",
       "    }\n",
       "\n",
       "    .dataframe thead th {\n",
       "        text-align: right;\n",
       "    }\n",
       "</style>\n",
       "<table border=\"1\" class=\"dataframe\">\n",
       "  <thead>\n",
       "    <tr style=\"text-align: right;\">\n",
       "      <th></th>\n",
       "      <th>Name</th>\n",
       "      <th>Country</th>\n",
       "    </tr>\n",
       "  </thead>\n",
       "  <tbody>\n",
       "    <tr>\n",
       "      <th>0</th>\n",
       "      <td>Alice</td>\n",
       "      <td>UK</td>\n",
       "    </tr>\n",
       "    <tr>\n",
       "      <th>1</th>\n",
       "      <td>Bob</td>\n",
       "      <td>USA</td>\n",
       "    </tr>\n",
       "    <tr>\n",
       "      <th>2</th>\n",
       "      <td>Charlie</td>\n",
       "      <td>Canada</td>\n",
       "    </tr>\n",
       "  </tbody>\n",
       "</table>\n",
       "</div>"
      ],
      "text/plain": [
       "      Name Country\n",
       "0    Alice      UK\n",
       "1      Bob     USA\n",
       "2  Charlie  Canada"
      ]
     },
     "execution_count": 6,
     "metadata": {},
     "output_type": "execute_result"
    }
   ],
   "source": [
    "df['Country'] = ['UK', 'USA', 'Canada']\n",
    "df.drop('Age', axis=1)  # Remove column"
   ]
  },
  {
   "cell_type": "markdown",
   "id": "bc00f7b6",
   "metadata": {},
   "source": [
    "## Handling Missing Values"
   ]
  },
  {
   "cell_type": "code",
   "execution_count": 7,
   "id": "f8f1d607",
   "metadata": {},
   "outputs": [
    {
     "data": {
      "text/html": [
       "<div>\n",
       "<style scoped>\n",
       "    .dataframe tbody tr th:only-of-type {\n",
       "        vertical-align: middle;\n",
       "    }\n",
       "\n",
       "    .dataframe tbody tr th {\n",
       "        vertical-align: top;\n",
       "    }\n",
       "\n",
       "    .dataframe thead th {\n",
       "        text-align: right;\n",
       "    }\n",
       "</style>\n",
       "<table border=\"1\" class=\"dataframe\">\n",
       "  <thead>\n",
       "    <tr style=\"text-align: right;\">\n",
       "      <th></th>\n",
       "      <th>Name</th>\n",
       "      <th>Age</th>\n",
       "      <th>Country</th>\n",
       "    </tr>\n",
       "  </thead>\n",
       "  <tbody>\n",
       "    <tr>\n",
       "      <th>0</th>\n",
       "      <td>Alice</td>\n",
       "      <td>25</td>\n",
       "      <td>UK</td>\n",
       "    </tr>\n",
       "    <tr>\n",
       "      <th>2</th>\n",
       "      <td>Charlie</td>\n",
       "      <td>35</td>\n",
       "      <td>Canada</td>\n",
       "    </tr>\n",
       "  </tbody>\n",
       "</table>\n",
       "</div>"
      ],
      "text/plain": [
       "      Name  Age Country\n",
       "0    Alice   25      UK\n",
       "2  Charlie   35  Canada"
      ]
     },
     "execution_count": 7,
     "metadata": {},
     "output_type": "execute_result"
    }
   ],
   "source": [
    "df.loc[1, 'Country'] = None  # Insert missing value\n",
    "df.fillna('Unknown')\n",
    "df.dropna()"
   ]
  },
  {
   "cell_type": "markdown",
   "id": "1dd0b015",
   "metadata": {},
   "source": [
    "##  Grouping and Aggregation"
   ]
  },
  {
   "cell_type": "code",
   "execution_count": 8,
   "id": "e488285a",
   "metadata": {},
   "outputs": [
    {
     "data": {
      "text/plain": [
       "Country\n",
       "Canada    1\n",
       "UK        1\n",
       "dtype: int64"
      ]
     },
     "execution_count": 8,
     "metadata": {},
     "output_type": "execute_result"
    }
   ],
   "source": [
    "df.groupby('Country').size()"
   ]
  },
  {
   "cell_type": "markdown",
   "id": "92867f33",
   "metadata": {},
   "source": [
    "## Reading and Writing Files"
   ]
  },
  {
   "cell_type": "code",
   "execution_count": 9,
   "id": "316a492a",
   "metadata": {},
   "outputs": [],
   "source": [
    "# df.to_csv('mydata.csv', index=False)\n",
    "# df = pd.read_csv('mydata.csv')"
   ]
  },
  {
   "cell_type": "markdown",
   "id": "71c84425-ca7e-4c3d-93cd-73807ed75325",
   "metadata": {},
   "source": [
    "## Example: ELISA Plate Data (Protein Concentration)\n",
    "\n",
    "You ran an ELISA experiment to measure protein concentration in 3 groups of samples:\n",
    "- Control\n",
    "- Treated_A\n",
    "- Treated_B\n",
    "\n",
    "Each sample has a measured absorbance and calculated protein concentration (in µg/mL).\n",
    "\n",
    "Let’s load this sample dataset using pandas."
   ]
  },
  {
   "cell_type": "code",
   "execution_count": 10,
   "id": "5ff669e2-80ad-4d81-8ed7-68239e383984",
   "metadata": {},
   "outputs": [
    {
     "data": {
      "text/html": [
       "<div>\n",
       "<style scoped>\n",
       "    .dataframe tbody tr th:only-of-type {\n",
       "        vertical-align: middle;\n",
       "    }\n",
       "\n",
       "    .dataframe tbody tr th {\n",
       "        vertical-align: top;\n",
       "    }\n",
       "\n",
       "    .dataframe thead th {\n",
       "        text-align: right;\n",
       "    }\n",
       "</style>\n",
       "<table border=\"1\" class=\"dataframe\">\n",
       "  <thead>\n",
       "    <tr style=\"text-align: right;\">\n",
       "      <th></th>\n",
       "      <th>Sample_ID</th>\n",
       "      <th>Group</th>\n",
       "      <th>Absorbance</th>\n",
       "      <th>Protein_conc</th>\n",
       "    </tr>\n",
       "  </thead>\n",
       "  <tbody>\n",
       "    <tr>\n",
       "      <th>0</th>\n",
       "      <td>C1</td>\n",
       "      <td>Control</td>\n",
       "      <td>0.12</td>\n",
       "      <td>1.2</td>\n",
       "    </tr>\n",
       "    <tr>\n",
       "      <th>1</th>\n",
       "      <td>C2</td>\n",
       "      <td>Control</td>\n",
       "      <td>0.13</td>\n",
       "      <td>1.3</td>\n",
       "    </tr>\n",
       "    <tr>\n",
       "      <th>2</th>\n",
       "      <td>C3</td>\n",
       "      <td>Control</td>\n",
       "      <td>0.11</td>\n",
       "      <td>1.1</td>\n",
       "    </tr>\n",
       "    <tr>\n",
       "      <th>3</th>\n",
       "      <td>A1</td>\n",
       "      <td>Treated_A</td>\n",
       "      <td>0.25</td>\n",
       "      <td>2.5</td>\n",
       "    </tr>\n",
       "    <tr>\n",
       "      <th>4</th>\n",
       "      <td>A2</td>\n",
       "      <td>Treated_A</td>\n",
       "      <td>0.27</td>\n",
       "      <td>2.7</td>\n",
       "    </tr>\n",
       "  </tbody>\n",
       "</table>\n",
       "</div>"
      ],
      "text/plain": [
       "  Sample_ID      Group  Absorbance  Protein_conc\n",
       "0        C1    Control        0.12           1.2\n",
       "1        C2    Control        0.13           1.3\n",
       "2        C3    Control        0.11           1.1\n",
       "3        A1  Treated_A        0.25           2.5\n",
       "4        A2  Treated_A        0.27           2.7"
      ]
     },
     "execution_count": 10,
     "metadata": {},
     "output_type": "execute_result"
    }
   ],
   "source": [
    "# Let's create a simple DataFrame manually for this example\n",
    "data = {\n",
    "    'Sample_ID': ['C1', 'C2', 'C3', 'A1', 'A2', 'A3', 'B1', 'B2', 'B3'],\n",
    "    'Group': ['Control', 'Control', 'Control', 'Treated_A', 'Treated_A', 'Treated_A', 'Treated_B', 'Treated_B', 'Treated_B'],\n",
    "    'Absorbance': [0.12, 0.13, 0.11, 0.25, 0.27, 0.26, 0.20, 0.22, 0.21],\n",
    "    'Protein_conc': [1.2, 1.3, 1.1, 2.5, 2.7, 2.6, 2.0, 2.2, 2.1]\n",
    "}\n",
    "\n",
    "# Create a pandas DataFrame\n",
    "df = pd.DataFrame(data)\n",
    "\n",
    "# Show the first few rows of the table\n",
    "df.head()"
   ]
  },
  {
   "cell_type": "markdown",
   "id": "7b3a9d96-96ff-435e-b5a3-a12525cdfc90",
   "metadata": {},
   "source": [
    "## What is a DataFrame?\n",
    "\n",
    "A **DataFrame** is like a spreadsheet or lab table — each **row** is a sample, and each **column** is a measurement or label.\n",
    "\n",
    "Let’s explore how to analyze this table."
   ]
  },
  {
   "cell_type": "code",
   "execution_count": 11,
   "id": "e7118d57-b76d-4091-b2e9-ce9b338c75fa",
   "metadata": {},
   "outputs": [
    {
     "name": "stdout",
     "output_type": "stream",
     "text": [
      "Shape: (9, 4)\n"
     ]
    },
    {
     "data": {
      "text/html": [
       "<div>\n",
       "<style scoped>\n",
       "    .dataframe tbody tr th:only-of-type {\n",
       "        vertical-align: middle;\n",
       "    }\n",
       "\n",
       "    .dataframe tbody tr th {\n",
       "        vertical-align: top;\n",
       "    }\n",
       "\n",
       "    .dataframe thead th {\n",
       "        text-align: right;\n",
       "    }\n",
       "</style>\n",
       "<table border=\"1\" class=\"dataframe\">\n",
       "  <thead>\n",
       "    <tr style=\"text-align: right;\">\n",
       "      <th></th>\n",
       "      <th>Absorbance</th>\n",
       "      <th>Protein_conc</th>\n",
       "    </tr>\n",
       "  </thead>\n",
       "  <tbody>\n",
       "    <tr>\n",
       "      <th>count</th>\n",
       "      <td>9.000000</td>\n",
       "      <td>9.000000</td>\n",
       "    </tr>\n",
       "    <tr>\n",
       "      <th>mean</th>\n",
       "      <td>0.196667</td>\n",
       "      <td>1.966667</td>\n",
       "    </tr>\n",
       "    <tr>\n",
       "      <th>std</th>\n",
       "      <td>0.062048</td>\n",
       "      <td>0.620484</td>\n",
       "    </tr>\n",
       "    <tr>\n",
       "      <th>min</th>\n",
       "      <td>0.110000</td>\n",
       "      <td>1.100000</td>\n",
       "    </tr>\n",
       "    <tr>\n",
       "      <th>25%</th>\n",
       "      <td>0.130000</td>\n",
       "      <td>1.300000</td>\n",
       "    </tr>\n",
       "    <tr>\n",
       "      <th>50%</th>\n",
       "      <td>0.210000</td>\n",
       "      <td>2.100000</td>\n",
       "    </tr>\n",
       "    <tr>\n",
       "      <th>75%</th>\n",
       "      <td>0.250000</td>\n",
       "      <td>2.500000</td>\n",
       "    </tr>\n",
       "    <tr>\n",
       "      <th>max</th>\n",
       "      <td>0.270000</td>\n",
       "      <td>2.700000</td>\n",
       "    </tr>\n",
       "  </tbody>\n",
       "</table>\n",
       "</div>"
      ],
      "text/plain": [
       "       Absorbance  Protein_conc\n",
       "count    9.000000      9.000000\n",
       "mean     0.196667      1.966667\n",
       "std      0.062048      0.620484\n",
       "min      0.110000      1.100000\n",
       "25%      0.130000      1.300000\n",
       "50%      0.210000      2.100000\n",
       "75%      0.250000      2.500000\n",
       "max      0.270000      2.700000"
      ]
     },
     "execution_count": 11,
     "metadata": {},
     "output_type": "execute_result"
    }
   ],
   "source": [
    "# Show the shape (rows, columns)\n",
    "print(\"Shape:\", df.shape)\n",
    "\n",
    "# Summary statistics for numeric columns\n",
    "df.describe()"
   ]
  },
  {
   "cell_type": "markdown",
   "id": "4d2277d1-040b-449f-b170-bc95d3404085",
   "metadata": {},
   "source": [
    "## Filtering and Selection\n",
    "\n",
    "You can select specific rows or columns, just like filtering in Excel.\n",
    "\n",
    "Let’s:\n",
    "- Select only the \"Protein_conc\" column\n",
    "- Filter samples where protein concentration > 2.0"
   ]
  },
  {
   "cell_type": "code",
   "execution_count": 12,
   "id": "ed1e9404-9c50-4b2c-8cf1-2652b9e518c6",
   "metadata": {},
   "outputs": [
    {
     "data": {
      "text/plain": [
       "0    1.2\n",
       "1    1.3\n",
       "2    1.1\n",
       "3    2.5\n",
       "4    2.7\n",
       "5    2.6\n",
       "6    2.0\n",
       "7    2.2\n",
       "8    2.1\n",
       "Name: Protein_conc, dtype: float64"
      ]
     },
     "execution_count": 12,
     "metadata": {},
     "output_type": "execute_result"
    }
   ],
   "source": [
    "# Select just the protein concentration column\n",
    "df['Protein_conc']"
   ]
  },
  {
   "cell_type": "code",
   "execution_count": 13,
   "id": "40028eeb-c547-4546-b822-b39306f36ed0",
   "metadata": {},
   "outputs": [
    {
     "data": {
      "text/html": [
       "<div>\n",
       "<style scoped>\n",
       "    .dataframe tbody tr th:only-of-type {\n",
       "        vertical-align: middle;\n",
       "    }\n",
       "\n",
       "    .dataframe tbody tr th {\n",
       "        vertical-align: top;\n",
       "    }\n",
       "\n",
       "    .dataframe thead th {\n",
       "        text-align: right;\n",
       "    }\n",
       "</style>\n",
       "<table border=\"1\" class=\"dataframe\">\n",
       "  <thead>\n",
       "    <tr style=\"text-align: right;\">\n",
       "      <th></th>\n",
       "      <th>Sample_ID</th>\n",
       "      <th>Group</th>\n",
       "      <th>Absorbance</th>\n",
       "      <th>Protein_conc</th>\n",
       "    </tr>\n",
       "  </thead>\n",
       "  <tbody>\n",
       "    <tr>\n",
       "      <th>3</th>\n",
       "      <td>A1</td>\n",
       "      <td>Treated_A</td>\n",
       "      <td>0.25</td>\n",
       "      <td>2.5</td>\n",
       "    </tr>\n",
       "    <tr>\n",
       "      <th>4</th>\n",
       "      <td>A2</td>\n",
       "      <td>Treated_A</td>\n",
       "      <td>0.27</td>\n",
       "      <td>2.7</td>\n",
       "    </tr>\n",
       "    <tr>\n",
       "      <th>5</th>\n",
       "      <td>A3</td>\n",
       "      <td>Treated_A</td>\n",
       "      <td>0.26</td>\n",
       "      <td>2.6</td>\n",
       "    </tr>\n",
       "    <tr>\n",
       "      <th>7</th>\n",
       "      <td>B2</td>\n",
       "      <td>Treated_B</td>\n",
       "      <td>0.22</td>\n",
       "      <td>2.2</td>\n",
       "    </tr>\n",
       "    <tr>\n",
       "      <th>8</th>\n",
       "      <td>B3</td>\n",
       "      <td>Treated_B</td>\n",
       "      <td>0.21</td>\n",
       "      <td>2.1</td>\n",
       "    </tr>\n",
       "  </tbody>\n",
       "</table>\n",
       "</div>"
      ],
      "text/plain": [
       "  Sample_ID      Group  Absorbance  Protein_conc\n",
       "3        A1  Treated_A        0.25           2.5\n",
       "4        A2  Treated_A        0.27           2.7\n",
       "5        A3  Treated_A        0.26           2.6\n",
       "7        B2  Treated_B        0.22           2.2\n",
       "8        B3  Treated_B        0.21           2.1"
      ]
     },
     "execution_count": 13,
     "metadata": {},
     "output_type": "execute_result"
    }
   ],
   "source": [
    "# Filter rows where Protein_conc > 2.0\n",
    "high_conc = df[df['Protein_conc'] > 2.0]\n",
    "high_conc"
   ]
  },
  {
   "cell_type": "markdown",
   "id": "496b291a-27e6-446d-9486-08fcaeea748b",
   "metadata": {},
   "source": [
    "## Group Statistics\n",
    "\n",
    "Let’s calculate the average protein concentration **for each treatment group**.\n",
    "\n",
    "This is useful for comparing experimental conditions."
   ]
  },
  {
   "cell_type": "code",
   "execution_count": 14,
   "id": "5c72bfd0-ca2b-4b00-b36f-8bc993037fdf",
   "metadata": {},
   "outputs": [
    {
     "data": {
      "text/plain": [
       "Group\n",
       "Control      1.2\n",
       "Treated_A    2.6\n",
       "Treated_B    2.1\n",
       "Name: Protein_conc, dtype: float64"
      ]
     },
     "execution_count": 14,
     "metadata": {},
     "output_type": "execute_result"
    }
   ],
   "source": [
    "# Group by the \"Group\" column and calculate the mean\n",
    "group_means = df.groupby('Group')['Protein_conc'].mean()\n",
    "group_means"
   ]
  },
  {
   "cell_type": "code",
   "execution_count": 15,
   "id": "16e06644-e282-4ac5-bc99-7db01c47452b",
   "metadata": {},
   "outputs": [
    {
     "data": {
      "text/plain": [
       "Group\n",
       "Control      0.1\n",
       "Treated_A    0.1\n",
       "Treated_B    0.1\n",
       "Name: Protein_conc, dtype: float64"
      ]
     },
     "execution_count": 15,
     "metadata": {},
     "output_type": "execute_result"
    }
   ],
   "source": [
    "# We can also calculate standard deviation per group\n",
    "group_std = df.groupby('Group')['Protein_conc'].std()\n",
    "group_std"
   ]
  },
  {
   "cell_type": "markdown",
   "id": "fc9e1c2f-8773-4120-9a54-4754ae1503e3",
   "metadata": {},
   "source": [
    "## Optional: Sorting and Exporting\n",
    "\n",
    "You can sort your results, or save them to a CSV file to share with colleagues."
   ]
  },
  {
   "cell_type": "code",
   "execution_count": 16,
   "id": "56cc442f-867b-4ec1-9361-3e28396b25cd",
   "metadata": {},
   "outputs": [
    {
     "data": {
      "text/html": [
       "<div>\n",
       "<style scoped>\n",
       "    .dataframe tbody tr th:only-of-type {\n",
       "        vertical-align: middle;\n",
       "    }\n",
       "\n",
       "    .dataframe tbody tr th {\n",
       "        vertical-align: top;\n",
       "    }\n",
       "\n",
       "    .dataframe thead th {\n",
       "        text-align: right;\n",
       "    }\n",
       "</style>\n",
       "<table border=\"1\" class=\"dataframe\">\n",
       "  <thead>\n",
       "    <tr style=\"text-align: right;\">\n",
       "      <th></th>\n",
       "      <th>Sample_ID</th>\n",
       "      <th>Group</th>\n",
       "      <th>Absorbance</th>\n",
       "      <th>Protein_conc</th>\n",
       "    </tr>\n",
       "  </thead>\n",
       "  <tbody>\n",
       "    <tr>\n",
       "      <th>4</th>\n",
       "      <td>A2</td>\n",
       "      <td>Treated_A</td>\n",
       "      <td>0.27</td>\n",
       "      <td>2.7</td>\n",
       "    </tr>\n",
       "    <tr>\n",
       "      <th>5</th>\n",
       "      <td>A3</td>\n",
       "      <td>Treated_A</td>\n",
       "      <td>0.26</td>\n",
       "      <td>2.6</td>\n",
       "    </tr>\n",
       "    <tr>\n",
       "      <th>3</th>\n",
       "      <td>A1</td>\n",
       "      <td>Treated_A</td>\n",
       "      <td>0.25</td>\n",
       "      <td>2.5</td>\n",
       "    </tr>\n",
       "    <tr>\n",
       "      <th>7</th>\n",
       "      <td>B2</td>\n",
       "      <td>Treated_B</td>\n",
       "      <td>0.22</td>\n",
       "      <td>2.2</td>\n",
       "    </tr>\n",
       "    <tr>\n",
       "      <th>8</th>\n",
       "      <td>B3</td>\n",
       "      <td>Treated_B</td>\n",
       "      <td>0.21</td>\n",
       "      <td>2.1</td>\n",
       "    </tr>\n",
       "    <tr>\n",
       "      <th>6</th>\n",
       "      <td>B1</td>\n",
       "      <td>Treated_B</td>\n",
       "      <td>0.20</td>\n",
       "      <td>2.0</td>\n",
       "    </tr>\n",
       "    <tr>\n",
       "      <th>1</th>\n",
       "      <td>C2</td>\n",
       "      <td>Control</td>\n",
       "      <td>0.13</td>\n",
       "      <td>1.3</td>\n",
       "    </tr>\n",
       "    <tr>\n",
       "      <th>0</th>\n",
       "      <td>C1</td>\n",
       "      <td>Control</td>\n",
       "      <td>0.12</td>\n",
       "      <td>1.2</td>\n",
       "    </tr>\n",
       "    <tr>\n",
       "      <th>2</th>\n",
       "      <td>C3</td>\n",
       "      <td>Control</td>\n",
       "      <td>0.11</td>\n",
       "      <td>1.1</td>\n",
       "    </tr>\n",
       "  </tbody>\n",
       "</table>\n",
       "</div>"
      ],
      "text/plain": [
       "  Sample_ID      Group  Absorbance  Protein_conc\n",
       "4        A2  Treated_A        0.27           2.7\n",
       "5        A3  Treated_A        0.26           2.6\n",
       "3        A1  Treated_A        0.25           2.5\n",
       "7        B2  Treated_B        0.22           2.2\n",
       "8        B3  Treated_B        0.21           2.1\n",
       "6        B1  Treated_B        0.20           2.0\n",
       "1        C2    Control        0.13           1.3\n",
       "0        C1    Control        0.12           1.2\n",
       "2        C3    Control        0.11           1.1"
      ]
     },
     "execution_count": 16,
     "metadata": {},
     "output_type": "execute_result"
    }
   ],
   "source": [
    "# Sort by Protein_conc, descending\n",
    "df_sorted = df.sort_values(by='Protein_conc', ascending=False)\n",
    "df_sorted"
   ]
  },
  {
   "cell_type": "code",
   "execution_count": 17,
   "id": "f66768f2-2a1b-48f3-a031-1c153da928aa",
   "metadata": {},
   "outputs": [],
   "source": [
    "# Export to CSV (if needed)\n",
    "df.to_csv(\"elisa_results.csv\", index=False)"
   ]
  },
  {
   "cell_type": "markdown",
   "id": "f4a15689-26de-424b-9e9f-eab76fa5192d",
   "metadata": {},
   "source": [
    "## Summary\n",
    "\n",
    "In this chapter, you learned how to:\n",
    "\n",
    "- Create and explore a pandas **DataFrame**\n",
    "- Select and filter experimental data\n",
    "- Group by condition (e.g., Control vs Treated)\n",
    "- Calculate statistics like **mean** and **std**\n",
    "- Sort and export your results\n",
    "\n"
   ]
  }
 ],
 "metadata": {
  "kernelspec": {
   "display_name": "Python 3 (ipykernel)",
   "language": "python",
   "name": "python3"
  },
  "language_info": {
   "codemirror_mode": {
    "name": "ipython",
    "version": 3
   },
   "file_extension": ".py",
   "mimetype": "text/x-python",
   "name": "python",
   "nbconvert_exporter": "python",
   "pygments_lexer": "ipython3",
   "version": "3.13.5"
  }
 },
 "nbformat": 4,
 "nbformat_minor": 5
}
