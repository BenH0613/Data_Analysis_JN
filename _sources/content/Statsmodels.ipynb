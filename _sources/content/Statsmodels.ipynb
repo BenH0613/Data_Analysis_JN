{
 "cells": [
  {
   "cell_type": "markdown",
   "id": "d4210e62-f6bd-49c4-8d1f-b33165070cb8",
   "metadata": {},
   "source": [
    "#  Statistical Modeling with statsmodels\n",
    "\n",
    "## Why Use statsmodels?\n",
    "\n",
    "In many biology and chemistry experiments, we want to go beyond summary statistics — we want to test:\n",
    "\n",
    "- Is there a **significant difference** between groups?\n",
    "- Does **concentration** affect a response variable?\n",
    "- How well does a **dose-response** model fit the data?\n",
    "\n",
    "This is where **statsmodels** comes in.\n",
    "\n",
    "It allows you to:\n",
    "\n",
    "- Fit **linear regression models**  \n",
    "-  Run **t-tests**, **ANOVA**, and other statistical tests  \n",
    "-  Generate detailed statistical summaries (like R or GraphPad)\n",
    "\n",
    "---\n",
    "\n",
    "## Common Use Cases in Biochemistry:\n",
    "- Compare treated vs control groups\n",
    "- Model dose-response relationships\n",
    "- Analyze linear trends (e.g., protein concentration over time)\n",
    "\n",
    "---\n",
    "## Quick Syntax Reference\n",
    "\n",
    "```python\n",
    "import statsmodels.api as sm\n",
    "import statsmodels.formula.api as smf\n",
    "# Linear regression using formula notation:\n",
    "model = smf.ols('response ~ variable', data=df).fit()\n",
    "model.summary()\n",
    "# ANOVA table:\n",
    "sm.stats.anova_lm(model, typ=2)\n"
   ]
  },
  {
   "cell_type": "code",
   "execution_count": 7,
   "id": "74758415-3a07-42dd-9af1-c2e015594e09",
   "metadata": {},
   "outputs": [
    {
     "name": "stdout",
     "output_type": "stream",
     "text": [
      "Requirement already satisfied: statsmodels in c:\\users\\benhuang\\anaconda3\\envs\\data-book\\lib\\site-packages (0.14.4)\n",
      "Requirement already satisfied: numpy<3,>=1.22.3 in c:\\users\\benhuang\\anaconda3\\envs\\data-book\\lib\\site-packages (from statsmodels) (2.3.0)\n",
      "Requirement already satisfied: scipy!=1.9.2,>=1.8 in c:\\users\\benhuang\\anaconda3\\envs\\data-book\\lib\\site-packages (from statsmodels) (1.15.3)\n",
      "Requirement already satisfied: pandas!=2.1.0,>=1.4 in c:\\users\\benhuang\\anaconda3\\envs\\data-book\\lib\\site-packages (from statsmodels) (2.2.3)\n",
      "Requirement already satisfied: patsy>=0.5.6 in c:\\users\\benhuang\\anaconda3\\envs\\data-book\\lib\\site-packages (from statsmodels) (1.0.1)\n",
      "Requirement already satisfied: packaging>=21.3 in c:\\users\\benhuang\\appdata\\roaming\\python\\python313\\site-packages (from statsmodels) (25.0)\n",
      "Requirement already satisfied: python-dateutil>=2.8.2 in c:\\users\\benhuang\\appdata\\roaming\\python\\python313\\site-packages (from pandas!=2.1.0,>=1.4->statsmodels) (2.9.0.post0)\n",
      "Requirement already satisfied: pytz>=2020.1 in c:\\users\\benhuang\\anaconda3\\envs\\data-book\\lib\\site-packages (from pandas!=2.1.0,>=1.4->statsmodels) (2025.2)\n",
      "Requirement already satisfied: tzdata>=2022.7 in c:\\users\\benhuang\\anaconda3\\envs\\data-book\\lib\\site-packages (from pandas!=2.1.0,>=1.4->statsmodels) (2025.2)\n",
      "Requirement already satisfied: six>=1.5 in c:\\users\\benhuang\\appdata\\roaming\\python\\python313\\site-packages (from python-dateutil>=2.8.2->pandas!=2.1.0,>=1.4->statsmodels) (1.17.0)\n"
     ]
    }
   ],
   "source": [
    "!pip install statsmodels\n",
    "import pandas as pd\n",
    "import statsmodels.api as sm\n",
    "import statsmodels.formula.api as smf\n",
    "import matplotlib.pyplot as plt\n",
    "%matplotlib inline"
   ]
  },
  {
   "cell_type": "markdown",
   "id": "5203b152-0481-467a-80ae-5731adccc8d4",
   "metadata": {},
   "source": [
    "##  Example: Dose-Response Regression\n",
    "\n",
    "You test a drug at different doses and measure the enzyme inhibition (response).  \n",
    "Now you want to model the relationship and determine if the dose affects the outcome."
   ]
  },
  {
   "cell_type": "code",
   "execution_count": 8,
   "id": "14293fa5-d8a7-4552-bea7-cb8a0811b103",
   "metadata": {},
   "outputs": [
    {
     "data": {
      "text/html": [
       "<div>\n",
       "<style scoped>\n",
       "    .dataframe tbody tr th:only-of-type {\n",
       "        vertical-align: middle;\n",
       "    }\n",
       "\n",
       "    .dataframe tbody tr th {\n",
       "        vertical-align: top;\n",
       "    }\n",
       "\n",
       "    .dataframe thead th {\n",
       "        text-align: right;\n",
       "    }\n",
       "</style>\n",
       "<table border=\"1\" class=\"dataframe\">\n",
       "  <thead>\n",
       "    <tr style=\"text-align: right;\">\n",
       "      <th></th>\n",
       "      <th>Dose_mg</th>\n",
       "      <th>Inhibition_percent</th>\n",
       "    </tr>\n",
       "  </thead>\n",
       "  <tbody>\n",
       "    <tr>\n",
       "      <th>0</th>\n",
       "      <td>0</td>\n",
       "      <td>5</td>\n",
       "    </tr>\n",
       "    <tr>\n",
       "      <th>1</th>\n",
       "      <td>1</td>\n",
       "      <td>15</td>\n",
       "    </tr>\n",
       "    <tr>\n",
       "      <th>2</th>\n",
       "      <td>2</td>\n",
       "      <td>35</td>\n",
       "    </tr>\n",
       "    <tr>\n",
       "      <th>3</th>\n",
       "      <td>3</td>\n",
       "      <td>50</td>\n",
       "    </tr>\n",
       "    <tr>\n",
       "      <th>4</th>\n",
       "      <td>4</td>\n",
       "      <td>65</td>\n",
       "    </tr>\n",
       "    <tr>\n",
       "      <th>5</th>\n",
       "      <td>5</td>\n",
       "      <td>80</td>\n",
       "    </tr>\n",
       "  </tbody>\n",
       "</table>\n",
       "</div>"
      ],
      "text/plain": [
       "   Dose_mg  Inhibition_percent\n",
       "0        0                   5\n",
       "1        1                  15\n",
       "2        2                  35\n",
       "3        3                  50\n",
       "4        4                  65\n",
       "5        5                  80"
      ]
     },
     "execution_count": 8,
     "metadata": {},
     "output_type": "execute_result"
    }
   ],
   "source": [
    "# Simulated experimental data\n",
    "data = {\n",
    "    'Dose_mg': [0, 1, 2, 3, 4, 5],\n",
    "    'Inhibition_percent': [5, 15, 35, 50, 65, 80]\n",
    "}\n",
    "\n",
    "df = pd.DataFrame(data)\n",
    "df"
   ]
  },
  {
   "cell_type": "markdown",
   "id": "10372890-4119-4e2f-831a-4a3ccf2fb69e",
   "metadata": {},
   "source": [
    "## Fit a Linear Regression Model\n",
    "\n",
    "Let’s fit a line to predict enzyme inhibition (%) based on drug dose (mg)."
   ]
  },
  {
   "cell_type": "code",
   "execution_count": 9,
   "id": "3287600c-a945-4151-be84-548894750728",
   "metadata": {},
   "outputs": [
    {
     "name": "stderr",
     "output_type": "stream",
     "text": [
      "C:\\Users\\BenHuang\\anaconda3\\envs\\data-book\\Lib\\site-packages\\statsmodels\\stats\\stattools.py:74: ValueWarning: omni_normtest is not valid with less than 8 observations; 6 samples were given.\n",
      "  warn(\"omni_normtest is not valid with less than 8 observations; %i \"\n"
     ]
    },
    {
     "data": {
      "text/html": [
       "<table class=\"simpletable\">\n",
       "<caption>OLS Regression Results</caption>\n",
       "<tr>\n",
       "  <th>Dep. Variable:</th>    <td>Inhibition_percent</td> <th>  R-squared:         </th> <td>   0.996</td>\n",
       "</tr>\n",
       "<tr>\n",
       "  <th>Model:</th>                    <td>OLS</td>        <th>  Adj. R-squared:    </th> <td>   0.995</td>\n",
       "</tr>\n",
       "<tr>\n",
       "  <th>Method:</th>              <td>Least Squares</td>   <th>  F-statistic:       </th> <td>   945.7</td>\n",
       "</tr>\n",
       "<tr>\n",
       "  <th>Date:</th>              <td>Tue, 01 Jul 2025</td>  <th>  Prob (F-statistic):</th> <td>6.66e-06</td>\n",
       "</tr>\n",
       "<tr>\n",
       "  <th>Time:</th>                  <td>23:14:01</td>      <th>  Log-Likelihood:    </th> <td> -11.745</td>\n",
       "</tr>\n",
       "<tr>\n",
       "  <th>No. Observations:</th>       <td>     6</td>       <th>  AIC:               </th> <td>   27.49</td>\n",
       "</tr>\n",
       "<tr>\n",
       "  <th>Df Residuals:</th>           <td>     4</td>       <th>  BIC:               </th> <td>   27.07</td>\n",
       "</tr>\n",
       "<tr>\n",
       "  <th>Df Model:</th>               <td>     1</td>       <th>                     </th>     <td> </td>   \n",
       "</tr>\n",
       "<tr>\n",
       "  <th>Covariance Type:</th>       <td>nonrobust</td>     <th>                     </th>     <td> </td>   \n",
       "</tr>\n",
       "</table>\n",
       "<table class=\"simpletable\">\n",
       "<tr>\n",
       "      <td></td>         <th>coef</th>     <th>std err</th>      <th>t</th>      <th>P>|t|</th>  <th>[0.025</th>    <th>0.975]</th>  \n",
       "</tr>\n",
       "<tr>\n",
       "  <th>Intercept</th> <td>    3.0952</td> <td>    1.519</td> <td>    2.038</td> <td> 0.111</td> <td>   -1.122</td> <td>    7.313</td>\n",
       "</tr>\n",
       "<tr>\n",
       "  <th>Dose_mg</th>   <td>   15.4286</td> <td>    0.502</td> <td>   30.753</td> <td> 0.000</td> <td>   14.036</td> <td>   16.822</td>\n",
       "</tr>\n",
       "</table>\n",
       "<table class=\"simpletable\">\n",
       "<tr>\n",
       "  <th>Omnibus:</th>       <td>   nan</td> <th>  Durbin-Watson:     </th> <td>   2.890</td>\n",
       "</tr>\n",
       "<tr>\n",
       "  <th>Prob(Omnibus):</th> <td>   nan</td> <th>  Jarque-Bera (JB):  </th> <td>   1.397</td>\n",
       "</tr>\n",
       "<tr>\n",
       "  <th>Skew:</th>          <td>-1.175</td> <th>  Prob(JB):          </th> <td>   0.497</td>\n",
       "</tr>\n",
       "<tr>\n",
       "  <th>Kurtosis:</th>      <td> 3.261</td> <th>  Cond. No.          </th> <td>    5.78</td>\n",
       "</tr>\n",
       "</table><br/><br/>Notes:<br/>[1] Standard Errors assume that the covariance matrix of the errors is correctly specified."
      ],
      "text/latex": [
       "\\begin{center}\n",
       "\\begin{tabular}{lclc}\n",
       "\\toprule\n",
       "\\textbf{Dep. Variable:}    & Inhibition\\_percent & \\textbf{  R-squared:         } &     0.996   \\\\\n",
       "\\textbf{Model:}            &         OLS         & \\textbf{  Adj. R-squared:    } &     0.995   \\\\\n",
       "\\textbf{Method:}           &    Least Squares    & \\textbf{  F-statistic:       } &     945.7   \\\\\n",
       "\\textbf{Date:}             &   Tue, 01 Jul 2025  & \\textbf{  Prob (F-statistic):} &  6.66e-06   \\\\\n",
       "\\textbf{Time:}             &       23:14:01      & \\textbf{  Log-Likelihood:    } &   -11.745   \\\\\n",
       "\\textbf{No. Observations:} &             6       & \\textbf{  AIC:               } &     27.49   \\\\\n",
       "\\textbf{Df Residuals:}     &             4       & \\textbf{  BIC:               } &     27.07   \\\\\n",
       "\\textbf{Df Model:}         &             1       & \\textbf{                     } &             \\\\\n",
       "\\textbf{Covariance Type:}  &      nonrobust      & \\textbf{                     } &             \\\\\n",
       "\\bottomrule\n",
       "\\end{tabular}\n",
       "\\begin{tabular}{lcccccc}\n",
       "                   & \\textbf{coef} & \\textbf{std err} & \\textbf{t} & \\textbf{P$> |$t$|$} & \\textbf{[0.025} & \\textbf{0.975]}  \\\\\n",
       "\\midrule\n",
       "\\textbf{Intercept} &       3.0952  &        1.519     &     2.038  &         0.111        &       -1.122    &        7.313     \\\\\n",
       "\\textbf{Dose\\_mg}  &      15.4286  &        0.502     &    30.753  &         0.000        &       14.036    &       16.822     \\\\\n",
       "\\bottomrule\n",
       "\\end{tabular}\n",
       "\\begin{tabular}{lclc}\n",
       "\\textbf{Omnibus:}       &    nan & \\textbf{  Durbin-Watson:     } &    2.890  \\\\\n",
       "\\textbf{Prob(Omnibus):} &    nan & \\textbf{  Jarque-Bera (JB):  } &    1.397  \\\\\n",
       "\\textbf{Skew:}          & -1.175 & \\textbf{  Prob(JB):          } &    0.497  \\\\\n",
       "\\textbf{Kurtosis:}      &  3.261 & \\textbf{  Cond. No.          } &     5.78  \\\\\n",
       "\\bottomrule\n",
       "\\end{tabular}\n",
       "%\\caption{OLS Regression Results}\n",
       "\\end{center}\n",
       "\n",
       "Notes: \\newline\n",
       " [1] Standard Errors assume that the covariance matrix of the errors is correctly specified."
      ],
      "text/plain": [
       "<class 'statsmodels.iolib.summary.Summary'>\n",
       "\"\"\"\n",
       "                            OLS Regression Results                            \n",
       "==============================================================================\n",
       "Dep. Variable:     Inhibition_percent   R-squared:                       0.996\n",
       "Model:                            OLS   Adj. R-squared:                  0.995\n",
       "Method:                 Least Squares   F-statistic:                     945.7\n",
       "Date:                Tue, 01 Jul 2025   Prob (F-statistic):           6.66e-06\n",
       "Time:                        23:14:01   Log-Likelihood:                -11.745\n",
       "No. Observations:                   6   AIC:                             27.49\n",
       "Df Residuals:                       4   BIC:                             27.07\n",
       "Df Model:                           1                                         \n",
       "Covariance Type:            nonrobust                                         \n",
       "==============================================================================\n",
       "                 coef    std err          t      P>|t|      [0.025      0.975]\n",
       "------------------------------------------------------------------------------\n",
       "Intercept      3.0952      1.519      2.038      0.111      -1.122       7.313\n",
       "Dose_mg       15.4286      0.502     30.753      0.000      14.036      16.822\n",
       "==============================================================================\n",
       "Omnibus:                          nan   Durbin-Watson:                   2.890\n",
       "Prob(Omnibus):                    nan   Jarque-Bera (JB):                1.397\n",
       "Skew:                          -1.175   Prob(JB):                        0.497\n",
       "Kurtosis:                       3.261   Cond. No.                         5.78\n",
       "==============================================================================\n",
       "\n",
       "Notes:\n",
       "[1] Standard Errors assume that the covariance matrix of the errors is correctly specified.\n",
       "\"\"\""
      ]
     },
     "execution_count": 9,
     "metadata": {},
     "output_type": "execute_result"
    }
   ],
   "source": [
    "# Use formula-style syntax: 'response ~ predictor'\n",
    "model = smf.ols('Inhibition_percent ~ Dose_mg', data=df).fit()\n",
    "\n",
    "# View model summary\n",
    "model.summary()"
   ]
  },
  {
   "cell_type": "markdown",
   "id": "c5765f6e-d85c-4e5f-b298-a9aedf14e6b5",
   "metadata": {},
   "source": [
    "##  Interpreting the Model Summary\n",
    "\n",
    "- **coef**: shows the slope and intercept of the regression line  \n",
    "- **R-squared**: tells us how well the model fits (closer to 1 is better)  \n",
    "- **P>|t|**: tells us whether the effect of dose is statistically significant (p < 0.05 = significant)\n",
    "\n",
    "In this case, if the p-value for `Dose_mg` is low, we can conclude that the drug dose significantly affects enzyme inhibition."
   ]
  },
  {
   "cell_type": "code",
   "execution_count": 10,
   "id": "ed21acc8-8b3b-4b2d-b19e-14352de80a7b",
   "metadata": {},
   "outputs": [
    {
     "data": {
      "image/png": "[encoded data removed]",
      "text/plain": [
       "<Figure size 640x480 with 1 Axes>"
      ]
     },
     "metadata": {},
     "output_type": "display_data"
    }
   ],
   "source": [
    "# Plot data and regression line\n",
    "plt.scatter(df['Dose_mg'], df['Inhibition_percent'], label=\"Observed\", color='blue')\n",
    "plt.plot(df['Dose_mg'], model.predict(df), label=\"Fitted Line\", color='red')\n",
    "\n",
    "plt.xlabel(\"Dose (mg)\")\n",
    "plt.ylabel(\"Enzyme Inhibition (%)\")\n",
    "plt.title(\"Dose-Response Linear Fit\")\n",
    "plt.legend()\n",
    "plt.grid(True)\n",
    "plt.show()"
   ]
  },
  {
   "cell_type": "markdown",
   "id": "e68cc119-b523-48b2-b4f0-77f195cb49a3",
   "metadata": {},
   "source": [
    "## ANOVA: Analysis of Variance\n",
    "\n",
    "ANOVA helps test if dose has a significant effect on response (like a global test).\n",
    "\n",
    "Here’s how to run it using statsmodels:"
   ]
  },
  {
   "cell_type": "code",
   "execution_count": 11,
   "id": "05a752cf-26e2-4524-b838-712ddf45ad2a",
   "metadata": {},
   "outputs": [
    {
     "data": {
      "text/html": [
       "<div>\n",
       "<style scoped>\n",
       "    .dataframe tbody tr th:only-of-type {\n",
       "        vertical-align: middle;\n",
       "    }\n",
       "\n",
       "    .dataframe tbody tr th {\n",
       "        vertical-align: top;\n",
       "    }\n",
       "\n",
       "    .dataframe thead th {\n",
       "        text-align: right;\n",
       "    }\n",
       "</style>\n",
       "<table border=\"1\" class=\"dataframe\">\n",
       "  <thead>\n",
       "    <tr style=\"text-align: right;\">\n",
       "      <th></th>\n",
       "      <th>sum_sq</th>\n",
       "      <th>df</th>\n",
       "      <th>F</th>\n",
       "      <th>PR(&gt;F)</th>\n",
       "    </tr>\n",
       "  </thead>\n",
       "  <tbody>\n",
       "    <tr>\n",
       "      <th>Dose_mg</th>\n",
       "      <td>4165.714286</td>\n",
       "      <td>1.0</td>\n",
       "      <td>945.72973</td>\n",
       "      <td>0.000007</td>\n",
       "    </tr>\n",
       "    <tr>\n",
       "      <th>Residual</th>\n",
       "      <td>17.619048</td>\n",
       "      <td>4.0</td>\n",
       "      <td>NaN</td>\n",
       "      <td>NaN</td>\n",
       "    </tr>\n",
       "  </tbody>\n",
       "</table>\n",
       "</div>"
      ],
      "text/plain": [
       "               sum_sq   df          F    PR(>F)\n",
       "Dose_mg   4165.714286  1.0  945.72973  0.000007\n",
       "Residual    17.619048  4.0        NaN       NaN"
      ]
     },
     "execution_count": 11,
     "metadata": {},
     "output_type": "execute_result"
    }
   ],
   "source": [
    "# Run ANOVA\n",
    "anova_table = sm.stats.anova_lm(model, typ=2)\n",
    "anova_table"
   ]
  },
  {
   "cell_type": "markdown",
   "id": "c0e41564-3abb-4700-8488-7f9cafc2ce5b",
   "metadata": {},
   "source": [
    "## Summary\n",
    "\n",
    "In this chapter, you learned how to:\n",
    "\n",
    "- Use **statsmodels** to build a linear regression model\n",
    "- Analyze a **dose-response** relationship\n",
    "- Interpret statistical output (p-values, R²)\n",
    "- Perform an optional **ANOVA** to test significance\n",
    "\n",
    "statsmodels is especially useful when you want R-style statistical analysis in Python — perfect for biology labs, drug testing, or gene expression studies."
   ]
  }
 ],
 "metadata": {
  "kernelspec": {
   "display_name": "Python 3 (ipykernel)",
   "language": "python",
   "name": "python3"
  },
  "language_info": {
   "codemirror_mode": {
    "name": "ipython",
    "version": 3
   },
   "file_extension": ".py",
   "mimetype": "text/x-python",
   "name": "python",
   "nbconvert_exporter": "python",
   "pygments_lexer": "ipython3",
   "version": "3.13.5"
  }
 },
 "nbformat": 4,
 "nbformat_minor": 5
}
