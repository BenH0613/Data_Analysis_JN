{
 "cells": [
  {
   "cell_type": "markdown",
   "id": "c8f1d23f-4663-421e-aa23-ece246f980a7",
   "metadata": {},
   "source": [
    "# SymPy Tutorial \n",
    "\n",
    "This notebook introduces SymPy — a Python library for symbolic math.\n",
    "You can use it to solve equations, take derivatives, and simplify formulas — just like you would on paper.\n",
    "\n",
    "# Why SymPy?\n",
    "SymPy is useful in biosciences when working with:\n",
    "- Reaction rate laws (e.g., Michaelis-Menten)\n",
    "- Equilibrium expressions\n",
    "- Algebraic derivations and simplifications\n",
    "- Symbolic calculus (e.g., rate of change, growth models)\n",
    "\n",
    "\n"
   ]
  },
  {
   "cell_type": "code",
   "execution_count": 2,
   "id": "47bf4790-7cd4-4057-b064-df82826de238",
   "metadata": {},
   "outputs": [
    {
     "name": "stdout",
     "output_type": "stream",
     "text": [
      "Collecting sympy\n",
      "  Downloading sympy-1.14.0-py3-none-any.whl.metadata (12 kB)\n",
      "Collecting mpmath<1.4,>=1.1.0 (from sympy)\n",
      "  Downloading mpmath-1.3.0-py3-none-any.whl.metadata (8.6 kB)\n",
      "Downloading sympy-1.14.0-py3-none-any.whl (6.3 MB)\n",
      "   ---------------------------------------- 0.0/6.3 MB ? eta -:--:--\n",
      "   --------- ------------------------------ 1.6/6.3 MB 11.6 MB/s eta 0:00:01\n",
      "   ---------------------------- ----------- 4.5/6.3 MB 12.9 MB/s eta 0:00:01\n",
      "   ---------------------------------------- 6.3/6.3 MB 13.5 MB/s eta 0:00:00\n",
      "Downloading mpmath-1.3.0-py3-none-any.whl (536 kB)\n",
      "   ---------------------------------------- 0.0/536.2 kB ? eta -:--:--\n",
      "   --------------------------------------- 536.2/536.2 kB 27.0 MB/s eta 0:00:00\n",
      "Installing collected packages: mpmath, sympy\n",
      "\n",
      "   ---------------------------------------- 0/2 [mpmath]\n",
      "   ---------------------------------------- 0/2 [mpmath]\n",
      "   ---------------------------------------- 0/2 [mpmath]\n",
      "   ---------------------------------------- 0/2 [mpmath]\n",
      "   ---------------------------------------- 0/2 [mpmath]\n",
      "   ---------------------------------------- 0/2 [mpmath]\n",
      "   -------------------- ------------------- 1/2 [sympy]\n",
      "   -------------------- ------------------- 1/2 [sympy]\n",
      "   -------------------- ------------------- 1/2 [sympy]\n",
      "   -------------------- ------------------- 1/2 [sympy]\n",
      "   -------------------- ------------------- 1/2 [sympy]\n",
      "   -------------------- ------------------- 1/2 [sympy]\n",
      "   -------------------- ------------------- 1/2 [sympy]\n",
      "   -------------------- ------------------- 1/2 [sympy]\n",
      "   -------------------- ------------------- 1/2 [sympy]\n",
      "   -------------------- ------------------- 1/2 [sympy]\n",
      "   -------------------- ------------------- 1/2 [sympy]\n",
      "   -------------------- ------------------- 1/2 [sympy]\n",
      "   -------------------- ------------------- 1/2 [sympy]\n",
      "   -------------------- ------------------- 1/2 [sympy]\n",
      "   -------------------- ------------------- 1/2 [sympy]\n",
      "   -------------------- ------------------- 1/2 [sympy]\n",
      "   -------------------- ------------------- 1/2 [sympy]\n",
      "   -------------------- ------------------- 1/2 [sympy]\n",
      "   -------------------- ------------------- 1/2 [sympy]\n",
      "   -------------------- ------------------- 1/2 [sympy]\n",
      "   -------------------- ------------------- 1/2 [sympy]\n",
      "   -------------------- ------------------- 1/2 [sympy]\n",
      "   -------------------- ------------------- 1/2 [sympy]\n",
      "   -------------------- ------------------- 1/2 [sympy]\n",
      "   -------------------- ------------------- 1/2 [sympy]\n",
      "   -------------------- ------------------- 1/2 [sympy]\n",
      "   -------------------- ------------------- 1/2 [sympy]\n",
      "   -------------------- ------------------- 1/2 [sympy]\n",
      "   -------------------- ------------------- 1/2 [sympy]\n",
      "   -------------------- ------------------- 1/2 [sympy]\n",
      "   -------------------- ------------------- 1/2 [sympy]\n",
      "   -------------------- ------------------- 1/2 [sympy]\n",
      "   -------------------- ------------------- 1/2 [sympy]\n",
      "   -------------------- ------------------- 1/2 [sympy]\n",
      "   -------------------- ------------------- 1/2 [sympy]\n",
      "   -------------------- ------------------- 1/2 [sympy]\n",
      "   -------------------- ------------------- 1/2 [sympy]\n",
      "   -------------------- ------------------- 1/2 [sympy]\n",
      "   -------------------- ------------------- 1/2 [sympy]\n",
      "   -------------------- ------------------- 1/2 [sympy]\n",
      "   -------------------- ------------------- 1/2 [sympy]\n",
      "   -------------------- ------------------- 1/2 [sympy]\n",
      "   -------------------- ------------------- 1/2 [sympy]\n",
      "   -------------------- ------------------- 1/2 [sympy]\n",
      "   -------------------- ------------------- 1/2 [sympy]\n",
      "   -------------------- ------------------- 1/2 [sympy]\n",
      "   -------------------- ------------------- 1/2 [sympy]\n",
      "   -------------------- ------------------- 1/2 [sympy]\n",
      "   -------------------- ------------------- 1/2 [sympy]\n",
      "   -------------------- ------------------- 1/2 [sympy]\n",
      "   -------------------- ------------------- 1/2 [sympy]\n",
      "   -------------------- ------------------- 1/2 [sympy]\n",
      "   -------------------- ------------------- 1/2 [sympy]\n",
      "   -------------------- ------------------- 1/2 [sympy]\n",
      "   -------------------- ------------------- 1/2 [sympy]\n",
      "   -------------------- ------------------- 1/2 [sympy]\n",
      "   -------------------- ------------------- 1/2 [sympy]\n",
      "   -------------------- ------------------- 1/2 [sympy]\n",
      "   -------------------- ------------------- 1/2 [sympy]\n",
      "   -------------------- ------------------- 1/2 [sympy]\n",
      "   -------------------- ------------------- 1/2 [sympy]\n",
      "   -------------------- ------------------- 1/2 [sympy]\n",
      "   -------------------- ------------------- 1/2 [sympy]\n",
      "   -------------------- ------------------- 1/2 [sympy]\n",
      "   -------------------- ------------------- 1/2 [sympy]\n",
      "   -------------------- ------------------- 1/2 [sympy]\n",
      "   -------------------- ------------------- 1/2 [sympy]\n",
      "   -------------------- ------------------- 1/2 [sympy]\n",
      "   -------------------- ------------------- 1/2 [sympy]\n",
      "   -------------------- ------------------- 1/2 [sympy]\n",
      "   -------------------- ------------------- 1/2 [sympy]\n",
      "   -------------------- ------------------- 1/2 [sympy]\n",
      "   -------------------- ------------------- 1/2 [sympy]\n",
      "   -------------------- ------------------- 1/2 [sympy]\n",
      "   -------------------- ------------------- 1/2 [sympy]\n",
      "   -------------------- ------------------- 1/2 [sympy]\n",
      "   -------------------- ------------------- 1/2 [sympy]\n",
      "   -------------------- ------------------- 1/2 [sympy]\n",
      "   -------------------- ------------------- 1/2 [sympy]\n",
      "   -------------------- ------------------- 1/2 [sympy]\n",
      "   -------------------- ------------------- 1/2 [sympy]\n",
      "   -------------------- ------------------- 1/2 [sympy]\n",
      "   -------------------- ------------------- 1/2 [sympy]\n",
      "   -------------------- ------------------- 1/2 [sympy]\n",
      "   -------------------- ------------------- 1/2 [sympy]\n",
      "   -------------------- ------------------- 1/2 [sympy]\n",
      "   -------------------- ------------------- 1/2 [sympy]\n",
      "   -------------------- ------------------- 1/2 [sympy]\n",
      "   -------------------- ------------------- 1/2 [sympy]\n",
      "   -------------------- ------------------- 1/2 [sympy]\n",
      "   -------------------- ------------------- 1/2 [sympy]\n",
      "   -------------------- ------------------- 1/2 [sympy]\n",
      "   -------------------- ------------------- 1/2 [sympy]\n",
      "   -------------------- ------------------- 1/2 [sympy]\n",
      "   -------------------- ------------------- 1/2 [sympy]\n",
      "   -------------------- ------------------- 1/2 [sympy]\n",
      "   -------------------- ------------------- 1/2 [sympy]\n",
      "   -------------------- ------------------- 1/2 [sympy]\n",
      "   -------------------- ------------------- 1/2 [sympy]\n",
      "   -------------------- ------------------- 1/2 [sympy]\n",
      "   -------------------- ------------------- 1/2 [sympy]\n",
      "   -------------------- ------------------- 1/2 [sympy]\n",
      "   -------------------- ------------------- 1/2 [sympy]\n",
      "   -------------------- ------------------- 1/2 [sympy]\n",
      "   -------------------- ------------------- 1/2 [sympy]\n",
      "   -------------------- ------------------- 1/2 [sympy]\n",
      "   -------------------- ------------------- 1/2 [sympy]\n",
      "   -------------------- ------------------- 1/2 [sympy]\n",
      "   -------------------- ------------------- 1/2 [sympy]\n",
      "   -------------------- ------------------- 1/2 [sympy]\n",
      "   -------------------- ------------------- 1/2 [sympy]\n",
      "   -------------------- ------------------- 1/2 [sympy]\n",
      "   -------------------- ------------------- 1/2 [sympy]\n",
      "   -------------------- ------------------- 1/2 [sympy]\n",
      "   -------------------- ------------------- 1/2 [sympy]\n",
      "   -------------------- ------------------- 1/2 [sympy]\n",
      "   -------------------- ------------------- 1/2 [sympy]\n",
      "   -------------------- ------------------- 1/2 [sympy]\n",
      "   ---------------------------------------- 2/2 [sympy]\n",
      "\n",
      "Successfully installed mpmath-1.3.0 sympy-1.14.0\n"
     ]
    }
   ],
   "source": [
    "!pip install sympy\n",
    "# Let's start by importing the library:\n",
    "import sympy as sp\n",
    "\n",
    "# Optional: Make math display nicely in notebooks\n",
    "sp.init_printing()"
   ]
  },
  {
   "cell_type": "markdown",
   "id": "1d6cd352-2611-47a6-835f-08511236a46d",
   "metadata": {},
   "source": [
    "## 1. Define Symbols and Expressions\n"
   ]
  },
  {
   "cell_type": "code",
   "execution_count": 3,
   "id": "9ba2527a-6eb1-4b03-866d-84e00d23a336",
   "metadata": {},
   "outputs": [
    {
     "data": {
      "image/png": "[encoded data removed]",
      "text/latex": [
       "$\\displaystyle \\frac{S Vmax}{Km + S}$"
      ],
      "text/plain": [
       "S⋅Vmax\n",
       "──────\n",
       "Km + S"
      ]
     },
     "execution_count": 3,
     "metadata": {},
     "output_type": "execute_result"
    }
   ],
   "source": [
    "# Define variables (symbols)\n",
    "S, Km, Vmax = sp.symbols('S Km Vmax')  # substrate, constant, max rate\n",
    "\n",
    "# Michaelis-Menten equation (reaction velocity)\n",
    "v = (Vmax * S) / (Km + S)\n",
    "\n",
    "# Display it symbolically\n",
    "v\n"
   ]
  },
  {
   "cell_type": "markdown",
   "id": "c9469c75-479a-4a56-8d5e-e96b5a5420e2",
   "metadata": {},
   "source": [
    "## 2. Differentiate the Reaction Rate\n",
    "Find how fast the rate changes with respect to substrate concentration [S]."
   ]
  },
  {
   "cell_type": "code",
   "execution_count": 4,
   "id": "c73c33ef-b4ea-4387-ac9c-5bd4302fbd0e",
   "metadata": {},
   "outputs": [
    {
     "data": {
      "image/png": "[encoded data removed]",
      "text/latex": [
       "$\\displaystyle - \\frac{S Vmax}{\\left(Km + S\\right)^{2}} + \\frac{Vmax}{Km + S}$"
      ],
      "text/plain": [
       "   S⋅Vmax      Vmax \n",
       "- ───────── + ──────\n",
       "          2   Km + S\n",
       "  (Km + S)          "
      ]
     },
     "execution_count": 4,
     "metadata": {},
     "output_type": "execute_result"
    }
   ],
   "source": [
    "# Take the derivative dv/dS\n",
    "dv_dS = sp.diff(v, S)\n",
    "\n",
    "# Show the derivative\n",
    "dv_dS\n"
   ]
  },
  {
   "cell_type": "markdown",
   "id": "414c46fa-a574-48ec-a37f-9ccc7ca2c4e0",
   "metadata": {},
   "source": [
    "## 3. Simplify an Expression\n",
    "Symbolic simplification is great for cleaning up messy formulas."
   ]
  },
  {
   "cell_type": "code",
   "execution_count": 5,
   "id": "335e5ac9-131e-41af-9ac7-2627c12ffe51",
   "metadata": {},
   "outputs": [
    {
     "data": {
      "image/png": "[encoded data removed]",
      "text/latex": [
       "$\\displaystyle Vmax$"
      ],
      "text/plain": [
       "Vmax"
      ]
     },
     "execution_count": 5,
     "metadata": {},
     "output_type": "execute_result"
    }
   ],
   "source": [
    "# Example expression\n",
    "expr = (Vmax * S + Vmax * Km) / (Km + S)\n",
    "\n",
    "# Simplify it\n",
    "simplified = sp.simplify(expr)\n",
    "simplified\n"
   ]
  },
  {
   "cell_type": "markdown",
   "id": "7327babd-8832-4711-be9a-55b630a3e92e",
   "metadata": {},
   "source": [
    "🧮 4. Solve an Equilibrium Equation\n",
    "Solve this symbolic expression for [C]:\n",
    "$$\n",
    "K = \\frac{[C]}{[A][B]}\n",
    "$$\n"
   ]
  },
  {
   "cell_type": "code",
   "execution_count": 6,
   "id": "62379075-2366-4a54-ae72-25ae6624eb29",
   "metadata": {},
   "outputs": [
    {
     "data": {
      "image/png": "[encoded data removed]",
      "text/latex": [
       "$\\displaystyle \\left[ A B K\\right]$"
      ],
      "text/plain": [
       "[A⋅B⋅K]"
      ]
     },
     "execution_count": 6,
     "metadata": {},
     "output_type": "execute_result"
    }
   ],
   "source": [
    "# Define symbols\n",
    "K, A, B, C = sp.symbols('K A B C')\n",
    "\n",
    "# Define the equation\n",
    "eq = sp.Eq(K, C / (A * B))\n",
    "\n",
    "# Solve for C\n",
    "solution = sp.solve(eq, C)\n",
    "solution\n"
   ]
  },
  {
   "cell_type": "markdown",
   "id": "02277b72-63ad-408f-9073-14a28415832e",
   "metadata": {},
   "source": [
    "## 5. Plug In Numerical Values\n",
    "Evaluate symbolic expressions using .subs()."
   ]
  },
  {
   "cell_type": "code",
   "execution_count": 7,
   "id": "fb26a9c2-9a27-461d-9f66-e56b0a26bc99",
   "metadata": {},
   "outputs": [
    {
     "data": {
      "image/png": "[encoded data removed]",
      "text/latex": [
       "$\\displaystyle \\frac{200}{7}$"
      ],
      "text/plain": [
       "200/7"
      ]
     },
     "execution_count": 7,
     "metadata": {},
     "output_type": "execute_result"
    }
   ],
   "source": [
    "# Example: Use Michaelis-Menten again\n",
    "# v = (Vmax * S) / (Km + S)\n",
    "\n",
    "# Substitute values\n",
    "v_val = v.subs({Vmax: 100, Km: 5, S: 2})\n",
    "v_val\n"
   ]
  },
  {
   "cell_type": "markdown",
   "id": "5940d591-ed63-4b9c-b0c1-21ec18725bcd",
   "metadata": {},
   "source": [
    "## 6. Solve a Quadratic Equation\n",
    "You might encounter this when modeling enzyme inhibition or chemical equilibria."
   ]
  },
  {
   "cell_type": "code",
   "execution_count": 8,
   "id": "a9e15a61-a754-414a-8e8e-24aca616d2a4",
   "metadata": {},
   "outputs": [
    {
     "data": {
      "image/png": "[encoded data removed]",
      "text/latex": [
       "$\\displaystyle \\left[ \\frac{- b - \\sqrt{- 4 a c + b^{2}}}{2 a}, \\  \\frac{- b + \\sqrt{- 4 a c + b^{2}}}{2 a}\\right]$"
      ],
      "text/plain": [
       "⎡        _____________          _____________⎤\n",
       "⎢       ╱           2          ╱           2 ⎥\n",
       "⎢-b - ╲╱  -4⋅a⋅c + b    -b + ╲╱  -4⋅a⋅c + b  ⎥\n",
       "⎢─────────────────────, ─────────────────────⎥\n",
       "⎣         2⋅a                    2⋅a         ⎦"
      ]
     },
     "execution_count": 8,
     "metadata": {},
     "output_type": "execute_result"
    }
   ],
   "source": [
    "# General quadratic form: ax² + bx + c = 0\n",
    "a, b, c, x = sp.symbols('a b c x')\n",
    "\n",
    "# Create the equation\n",
    "quad_eq = sp.Eq(a*x**2 + b*x + c, 0)\n",
    "\n",
    "# Solve for x\n",
    "roots = sp.solve(quad_eq, x)\n",
    "roots\n"
   ]
  },
  {
   "cell_type": "markdown",
   "id": "5910991d-b22f-47fa-a27d-3dab9b79e209",
   "metadata": {},
   "source": [
    "## 7. Expand or Factor Expressions\n",
    "Useful when transforming formulas in research or during derivations."
   ]
  },
  {
   "cell_type": "code",
   "execution_count": 9,
   "id": "fbdc7f3f-8640-492c-b3d8-5babf0937e34",
   "metadata": {},
   "outputs": [
    {
     "data": {
      "image/png": "[encoded data removed]",
      "text/latex": [
       "$\\displaystyle \\left(Km + S\\right)^{2}$"
      ],
      "text/plain": [
       "        2\n",
       "(Km + S) "
      ]
     },
     "execution_count": 9,
     "metadata": {},
     "output_type": "execute_result"
    }
   ],
   "source": [
    "# Expand a binomial\n",
    "expanded = sp.expand((S + Km)**2)\n",
    "expanded\n",
    "\n",
    "# Factor it back\n",
    "factored = sp.factor(expanded)\n",
    "factored\n"
   ]
  },
  {
   "cell_type": "markdown",
   "id": "3028281d-929e-4c98-a3ea-cd1e99f08965",
   "metadata": {},
   "source": [
    "### Summary: What You Learned\n",
    "| Task               | SymPy Function               |\n",
    "| ------------------ | ---------------------------- |\n",
    "| Define variables   | `sp.symbols()`               |\n",
    "| Define equations   | `sp.Eq()`                    |\n",
    "| Differentiate      | `sp.diff()`                  |\n",
    "| Solve equations    | `sp.solve()`                 |\n",
    "| Substitute numbers | `.subs()`                    |\n",
    "| Simplify           | `sp.simplify()`              |\n",
    "| Expand/factor      | `sp.expand()`, `sp.factor()` |\n"
   ]
  }
 ],
 "metadata": {
  "kernelspec": {
   "display_name": "Python 3 (ipykernel)",
   "language": "python",
   "name": "python3"
  },
  "language_info": {
   "codemirror_mode": {
    "name": "ipython",
    "version": 3
   },
   "file_extension": ".py",
   "mimetype": "text/x-python",
   "name": "python",
   "nbconvert_exporter": "python",
   "pygments_lexer": "ipython3",
   "version": "3.13.5"
  }
 },
 "nbformat": 4,
 "nbformat_minor": 5
}
