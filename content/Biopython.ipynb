{
 "cells": [
  {
   "cell_type": "markdown",
   "id": "fc41b136-29cb-44ec-a14b-055f4aa67b02",
   "metadata": {},
   "source": [
    "# Introduction to Biopython \n",
    "\n",
    "## What is Biopython?\n",
    "\n",
    "Biopython is a powerful open-source collection of tools for computational biology, written in Python.\n",
    "It helps scientists work with biological data such as DNA/RNA sequences, protein structures, and files from biological databases (e.g., GenBank, FASTA, PDB).\n",
    "\n",
    "In this chapter, we’ll learn how to use Biopython for common bioinformatics tasks that are relevant to biochemistry and molecular biology.\n",
    "\n",
    "## Learning Objectives:\n",
    "- Understand what Biopython is and how to install it\n",
    "- Learn how to read and write biological sequences (DNA, RNA, protein)\n",
    " - Perform simple sequence manipulations\n",
    " - Translate DNA to protein\n",
    " - Parse real biological data files (FASTA and GenBank)\n",
    " - Use example datasets from biosciences for practice\n",
    "\n",
    "Let’s start with some real examples!"
   ]
  },
  {
   "cell_type": "code",
   "execution_count": 5,
   "id": "0c5faa48-cc00-4ec9-b7e3-70ece71838dd",
   "metadata": {},
   "outputs": [
    {
     "name": "stdout",
     "output_type": "stream",
     "text": [
      "Requirement already satisfied: biopython in c:\\users\\benhuang\\anaconda3\\envs\\data-book\\lib\\site-packages (1.85)\n",
      "Requirement already satisfied: numpy in c:\\users\\benhuang\\anaconda3\\envs\\data-book\\lib\\site-packages (from biopython) (2.3.0)\n"
     ]
    }
   ],
   "source": [
    "# Install BioPython if not already installed (only once)\n",
    "!pip install biopython\n",
    "\n",
    "from Bio.Seq import Seq\n",
    "from Bio.SeqRecord import SeqRecord\n",
    "from Bio import SeqIO\n"
   ]
  },
  {
   "cell_type": "markdown",
   "id": "a6b0e795-6639-4f99-a517-0775988dd516",
   "metadata": {},
   "source": [
    "## Example 1: Creating and manipulating DNA sequences"
   ]
  },
  {
   "cell_type": "code",
   "execution_count": 6,
   "id": "89980e7d-d34d-4b90-b5d6-8119ac1115c2",
   "metadata": {},
   "outputs": [
    {
     "name": "stdout",
     "output_type": "stream",
     "text": [
      "Original DNA sequence:\n",
      "ATGGCCATTGTAATGGGCCGCTGAAAGGGTGCCCGATAG\n",
      "\n",
      "Complementary DNA:\n",
      "TACCGGTAACATTACCCGGCGACTTTCCCACGGGCTATC\n",
      "\n",
      "Reverse Complement:\n",
      "CTATCGGGCACCCTTTCAGCGGCCCATTACAATGGCCAT\n",
      "\n",
      "Transcribed mRNA:\n",
      "AUGGCCAUUGUAAUGGGCCGCUGAAAGGGUGCCCGAUAG\n",
      "\n",
      "Translated Protein Sequence:\n",
      "MAIVMGR*KGAR*\n"
     ]
    }
   ],
   "source": [
    "# Create a DNA sequence\n",
    "dna_seq = Seq(\"ATGGCCATTGTAATGGGCCGCTGAAAGGGTGCCCGATAG\")\n",
    "\n",
    "# Print the sequence\n",
    "print(\"Original DNA sequence:\")\n",
    "print(dna_seq)\n",
    "\n",
    "# Calculate the complement (A<->T, G<->C)\n",
    "complement = dna_seq.complement()\n",
    "print(\"\\nComplementary DNA:\")\n",
    "print(complement)\n",
    "\n",
    "# Calculate the reverse complement (useful in reverse transcription)\n",
    "rev_complement = dna_seq.reverse_complement()\n",
    "print(\"\\nReverse Complement:\")\n",
    "print(rev_complement)\n",
    "\n",
    "# Transcribe DNA to mRNA\n",
    "mRNA = dna_seq.transcribe()\n",
    "print(\"\\nTranscribed mRNA:\")\n",
    "print(mRNA)\n",
    "\n",
    "# Translate mRNA to protein\n",
    "protein = mRNA.translate()\n",
    "print(\"\\nTranslated Protein Sequence:\")\n",
    "print(protein)\n"
   ]
  },
  {
   "cell_type": "markdown",
   "id": "8ff0de4b-e128-4580-bae6-68b35df81c01",
   "metadata": {},
   "source": [
    "##  Example 2: Analyzing a short DNA sequence from a lab experiment\n",
    "Let's say we amplified a gene fragment from a plasmid and want to analyze it."
   ]
  },
  {
   "cell_type": "code",
   "execution_count": 7,
   "id": "fceb04e1-9ba0-4971-9d99-04a989391f95",
   "metadata": {},
   "outputs": [
    {
     "name": "stdout",
     "output_type": "stream",
     "text": [
      "Nucleotide counts:\n",
      "A: 13\n",
      "T: 9\n",
      "G: 10\n",
      "C: 7\n",
      "\n",
      "GC Content: 43.59%\n",
      "\n",
      "Protein Sequence:\n",
      "MTMITPSLF*KEE\n"
     ]
    }
   ],
   "source": [
    "# A mock DNA sequence from a gene (e.g., a fragment of lacZ)\n",
    "gene_fragment = Seq(\"ATGACCATGATTACGCCAAGCTTGTTCTGAAAGGAGGAA\")\n",
    "\n",
    "# Count number of each nucleotide\n",
    "print(\"Nucleotide counts:\")\n",
    "print(f\"A: {gene_fragment.count('A')}\")\n",
    "print(f\"T: {gene_fragment.count('T')}\")\n",
    "print(f\"G: {gene_fragment.count('G')}\")\n",
    "print(f\"C: {gene_fragment.count('C')}\")\n",
    "\n",
    "# GC content is important for PCR design and gene stability\n",
    "gc_content = (gene_fragment.count('G') + gene_fragment.count('C')) / len(gene_fragment) * 100\n",
    "print(f\"\\nGC Content: {gc_content:.2f}%\")\n",
    "\n",
    "# Translate to see what protein it encodes\n",
    "protein = gene_fragment.translate()\n",
    "print(\"\\nProtein Sequence:\")\n",
    "print(protein)\n"
   ]
  },
  {
   "cell_type": "markdown",
   "id": "43da3709-2ba3-4893-9fc2-8245462244e0",
   "metadata": {},
   "source": [
    "## Example 3: Reading a FASTA file (e.g., sequencing results)"
   ]
  },
  {
   "cell_type": "code",
   "execution_count": 8,
   "id": "2cfc5291-a715-4f3f-b90e-7438e0c698dc",
   "metadata": {},
   "outputs": [
    {
     "name": "stdout",
     "output_type": "stream",
     "text": [
      "Reading sequences from FASTA file:\n",
      "\n",
      "ID: gene1\n",
      "Description: gene1 Example gene 1\n",
      "Sequence: ATGCGTACGTAGCTAGCTAG\n",
      "---\n",
      "ID: gene2\n",
      "Description: gene2 Example gene 2\n",
      "Sequence: ATGGGGTACGTTAGCAGTAG\n",
      "---\n"
     ]
    }
   ],
   "source": [
    "# We'll create a sample FASTA file with two sequences\n",
    "# This simulates loading real sequencing results or genome fragments\n",
    "\n",
    "# Creating two sample sequences\n",
    "seq1 = SeqRecord(Seq(\"ATGCGTACGTAGCTAGCTAG\"), id=\"gene1\", description=\"Example gene 1\")\n",
    "seq2 = SeqRecord(Seq(\"ATGGGGTACGTTAGCAGTAG\"), id=\"gene2\", description=\"Example gene 2\")\n",
    "\n",
    "# Save to a FASTA file\n",
    "with open(\"sample_sequences.fasta\", \"w\") as output_handle:\n",
    "    SeqIO.write([seq1, seq2], output_handle, \"fasta\")\n",
    "\n",
    "# Now read it back\n",
    "print(\"Reading sequences from FASTA file:\\n\")\n",
    "for record in SeqIO.parse(\"sample_sequences.fasta\", \"fasta\"):\n",
    "    print(f\"ID: {record.id}\")\n",
    "    print(f\"Description: {record.description}\")\n",
    "    print(f\"Sequence: {record.seq}\")\n",
    "    print(\"---\")\n"
   ]
  },
  {
   "cell_type": "markdown",
   "id": "9bd875bf-a819-4df4-9463-ac171eb776ed",
   "metadata": {},
   "source": [
    "## Example 4: Parsing a GenBank file (commonly used in NCBI)"
   ]
  },
  {
   "cell_type": "code",
   "execution_count": 9,
   "id": "05cd8cdc-1314-4e72-bef2-05582702a948",
   "metadata": {},
   "outputs": [
    {
     "name": "stdout",
     "output_type": "stream",
     "text": [
      "ID: J01636.1\n",
      "Name: ECOLAC\n",
      "Description: E.coli lactose operon with lacI, lacZ, lacY and lacA genes\n",
      "Length: 7477 bp\n",
      "\n",
      "First 100 bases:\n",
      "GACACCATCGAATGGCGCAAAACCTTTCGCGGTATGGCATGATAGCGCCCGGAAGAGAGTCAATTCAGGGTGGTGAATGTGAAACCAGTAACGTTATACG\n",
      "\n",
      "Features in the record:\n",
      "- source\n",
      "- variation\n",
      "- gene\n",
      "- CDS\n",
      "- regulatory\n"
     ]
    }
   ],
   "source": [
    "# Biopython can parse real GenBank files from NCBI.\n",
    "# For this example, we’ll create a small mock GenBank record.\n",
    "\n",
    "# NOTE: Normally you'd use: SeqIO.read(\"filename.gb\", \"genbank\")\n",
    "# For illustration, we'll download a real GenBank record from NCBI in another example.\n",
    "\n",
    "from Bio import Entrez\n",
    "\n",
    "# Always include your email when accessing NCBI\n",
    "Entrez.email = \"your_email@example.com\"\n",
    "\n",
    "# Fetch a real GenBank record using NCBI Entrez\n",
    "# For example, lacZ gene from E. coli (Accession: J01636.1)\n",
    "\n",
    "handle = Entrez.efetch(db=\"nucleotide\", id=\"J01636.1\", rettype=\"gb\", retmode=\"text\")\n",
    "record = SeqIO.read(handle, \"genbank\")\n",
    "handle.close()\n",
    "\n",
    "# Print basic information\n",
    "print(f\"ID: {record.id}\")\n",
    "print(f\"Name: {record.name}\")\n",
    "print(f\"Description: {record.description}\")\n",
    "print(f\"Length: {len(record.seq)} bp\")\n",
    "\n",
    "# Print the first 100 nucleotides\n",
    "print(\"\\nFirst 100 bases:\")\n",
    "print(record.seq[:100])\n",
    "\n",
    "# List features (like genes, CDS, promoters)\n",
    "print(\"\\nFeatures in the record:\")\n",
    "for feature in record.features[:5]:  # Print only first 5 for brevity\n",
    "    print(f\"- {feature.type}\")\n"
   ]
  },
  {
   "cell_type": "markdown",
   "id": "0b5d6780-d7b0-417e-8d2f-c333355462a8",
   "metadata": {},
   "source": [
    "##  Example 5: Translating a gene coding sequence (CDS)"
   ]
  },
  {
   "cell_type": "code",
   "execution_count": 10,
   "id": "fd560088-11a4-4b10-b812-3759ea20342c",
   "metadata": {},
   "outputs": [
    {
     "name": "stdout",
     "output_type": "stream",
     "text": [
      "\n",
      "Extracted CDS sequence:\n",
      "GTGAAACCAGTAACGTTATACGATGTCGCAGAGTATGCCGGTGTCTCTTATCAGACCGTT ...\n",
      "\n",
      "Translated protein sequence:\n",
      "VKPVTLYDVAEYAGVSYQTVSRVVNQASHVSAKTREKVEAAMAELNYIPNRVAQQLAGKQ ...\n"
     ]
    }
   ],
   "source": [
    "# We'll extract the protein-coding sequence (CDS) from the GenBank record\n",
    "# Find first CDS feature\n",
    "for feature in record.features:\n",
    "    if feature.type == \"CDS\":\n",
    "        cds_seq = feature.extract(record.seq)\n",
    "        print(\"\\nExtracted CDS sequence:\")\n",
    "        print(cds_seq[:60], \"...\")  # print first part only\n",
    "        protein = cds_seq.translate(to_stop=True)\n",
    "        print(\"\\nTranslated protein sequence:\")\n",
    "        print(protein[:60], \"...\")  # print first part only\n",
    "        break\n"
   ]
  },
  {
   "cell_type": "markdown",
   "id": "ff7a3437-a230-4e0a-b638-4e426389cf22",
   "metadata": {},
   "source": [
    "## Summary: What You’ve Learned\n",
    "In this chapter, you learned how to:\n",
    "\n",
    "1. Install and import Biopython modules\n",
    "2.  Create and manipulate biological sequences (DNA, RNA, protein)\n",
    "3.  Transcribe DNA and translate to protein\n",
    "4.  Count nucleotides and compute GC content\n",
    "5.  Read and write FASTA files (common in sequencing)\n",
    "6.  Access and parse real GenBank records from NCBI\n",
    "7.  Extract CDS and translate protein from GenBank files"
   ]
  }
 ],
 "metadata": {
  "kernelspec": {
   "display_name": "Python 3 (ipykernel)",
   "language": "python",
   "name": "python3"
  },
  "language_info": {
   "codemirror_mode": {
    "name": "ipython",
    "version": 3
   },
   "file_extension": ".py",
   "mimetype": "text/x-python",
   "name": "python",
   "nbconvert_exporter": "python",
   "pygments_lexer": "ipython3",
   "version": "3.13.5"
  }
 },
 "nbformat": 4,
 "nbformat_minor": 5
}
